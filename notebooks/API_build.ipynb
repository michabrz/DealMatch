{
 "cells": [
  {
   "cell_type": "markdown",
   "id": "7e9438fa",
   "metadata": {
    "toc": true
   },
   "source": [
    "<h1>Table of Contents<span class=\"tocSkip\"></span></h1>\n",
    "<div class=\"toc\"><ul class=\"toc-item\"><li><span><a href=\"#API\" data-toc-modified-id=\"API-1\"><span class=\"toc-item-num\">1&nbsp;&nbsp;</span>API</a></span></li><li><span><a href=\"#UI\" data-toc-modified-id=\"UI-2\"><span class=\"toc-item-num\">2&nbsp;&nbsp;</span>UI</a></span></li></ul></div>"
   ]
  },
  {
   "cell_type": "markdown",
   "id": "0081c7c2",
   "metadata": {},
   "source": [
    "# API"
   ]
  },
  {
   "cell_type": "code",
   "execution_count": 32,
   "id": "6a298001",
   "metadata": {},
   "outputs": [],
   "source": [
    "import pandas as pd"
   ]
  },
  {
   "cell_type": "code",
   "execution_count": 33,
   "id": "8b3e1077",
   "metadata": {},
   "outputs": [],
   "source": [
    "filepath = '../DealMatch/targets_clean_test.xlsx'\n",
    "df = pd.read_excel(filepath)"
   ]
  },
  {
   "cell_type": "code",
   "execution_count": 34,
   "id": "fcab555a",
   "metadata": {},
   "outputs": [
    {
     "data": {
      "text/plain": [
       "Index(['deal_id', 'deal_name', 'deal_type_name', 'target_company_id',\n",
       "       'target_name', 'target_description', 'target_revenue', 'target_ebitda',\n",
       "       'target_ebit', 'country_name', 'region_name', 'sector_name', 'strs'],\n",
       "      dtype='object')"
      ]
     },
     "execution_count": 34,
     "metadata": {},
     "output_type": "execute_result"
    }
   ],
   "source": [
    "df.columns"
   ]
  },
  {
   "cell_type": "code",
   "execution_count": 35,
   "id": "a8858856",
   "metadata": {},
   "outputs": [
    {
     "data": {
      "text/html": [
       "<div>\n",
       "<style scoped>\n",
       "    .dataframe tbody tr th:only-of-type {\n",
       "        vertical-align: middle;\n",
       "    }\n",
       "\n",
       "    .dataframe tbody tr th {\n",
       "        vertical-align: top;\n",
       "    }\n",
       "\n",
       "    .dataframe thead th {\n",
       "        text-align: right;\n",
       "    }\n",
       "</style>\n",
       "<table border=\"1\" class=\"dataframe\">\n",
       "  <thead>\n",
       "    <tr style=\"text-align: right;\">\n",
       "      <th></th>\n",
       "      <th>deal_id</th>\n",
       "      <th>deal_name</th>\n",
       "      <th>deal_type_name</th>\n",
       "      <th>target_company_id</th>\n",
       "      <th>target_name</th>\n",
       "      <th>target_description</th>\n",
       "      <th>target_revenue</th>\n",
       "      <th>target_ebitda</th>\n",
       "      <th>target_ebit</th>\n",
       "      <th>country_name</th>\n",
       "      <th>region_name</th>\n",
       "      <th>sector_name</th>\n",
       "      <th>strs</th>\n",
       "    </tr>\n",
       "  </thead>\n",
       "  <tbody>\n",
       "    <tr>\n",
       "      <th>0</th>\n",
       "      <td>194</td>\n",
       "      <td>1303 Sonne</td>\n",
       "      <td>OTHER</td>\n",
       "      <td>825</td>\n",
       "      <td>Sonne</td>\n",
       "      <td>•\\t350MWp of solar photovoltaic project assets...</td>\n",
       "      <td>15</td>\n",
       "      <td>3</td>\n",
       "      <td>3</td>\n",
       "      <td>Germany</td>\n",
       "      <td>Bavaria</td>\n",
       "      <td>Energy</td>\n",
       "      <td>Solarkraft, energie, photovoltaik, pv, solar, ...</td>\n",
       "    </tr>\n",
       "  </tbody>\n",
       "</table>\n",
       "</div>"
      ],
      "text/plain": [
       "   deal_id   deal_name deal_type_name  target_company_id target_name  \\\n",
       "0      194  1303 Sonne          OTHER                825       Sonne   \n",
       "\n",
       "                                  target_description  target_revenue  \\\n",
       "0  •\\t350MWp of solar photovoltaic project assets...              15   \n",
       "\n",
       "   target_ebitda  target_ebit country_name region_name sector_name  \\\n",
       "0              3            3      Germany     Bavaria      Energy   \n",
       "\n",
       "                                                strs  \n",
       "0  Solarkraft, energie, photovoltaik, pv, solar, ...  "
      ]
     },
     "execution_count": 35,
     "metadata": {},
     "output_type": "execute_result"
    }
   ],
   "source": [
    "df.head()"
   ]
  },
  {
   "cell_type": "code",
   "execution_count": 36,
   "id": "fc03abf4",
   "metadata": {},
   "outputs": [
    {
     "data": {
      "text/plain": [
       "194"
      ]
     },
     "execution_count": 36,
     "metadata": {},
     "output_type": "execute_result"
    }
   ],
   "source": [
    "df['deal_id'][0]"
   ]
  },
  {
   "cell_type": "code",
   "execution_count": 37,
   "id": "a1bbd4a4",
   "metadata": {},
   "outputs": [
    {
     "data": {
      "text/html": [
       "<div>\n",
       "<style scoped>\n",
       "    .dataframe tbody tr th:only-of-type {\n",
       "        vertical-align: middle;\n",
       "    }\n",
       "\n",
       "    .dataframe tbody tr th {\n",
       "        vertical-align: top;\n",
       "    }\n",
       "\n",
       "    .dataframe thead th {\n",
       "        text-align: right;\n",
       "    }\n",
       "</style>\n",
       "<table border=\"1\" class=\"dataframe\">\n",
       "  <thead>\n",
       "    <tr style=\"text-align: right;\">\n",
       "      <th></th>\n",
       "      <th>deal_id</th>\n",
       "      <th>deal_name</th>\n",
       "      <th>deal_type_name</th>\n",
       "      <th>target_company_id</th>\n",
       "      <th>target_name</th>\n",
       "      <th>target_description</th>\n",
       "      <th>target_revenue</th>\n",
       "      <th>target_ebitda</th>\n",
       "      <th>target_ebit</th>\n",
       "      <th>country_name</th>\n",
       "      <th>region_name</th>\n",
       "      <th>sector_name</th>\n",
       "      <th>strs</th>\n",
       "    </tr>\n",
       "  </thead>\n",
       "  <tbody>\n",
       "    <tr>\n",
       "      <th>0</th>\n",
       "      <td>194</td>\n",
       "      <td>1303 Sonne</td>\n",
       "      <td>OTHER</td>\n",
       "      <td>825</td>\n",
       "      <td>Sonne</td>\n",
       "      <td>•\\t350MWp of solar photovoltaic project assets...</td>\n",
       "      <td>15</td>\n",
       "      <td>3</td>\n",
       "      <td>3</td>\n",
       "      <td>Germany</td>\n",
       "      <td>Bavaria</td>\n",
       "      <td>Energy</td>\n",
       "      <td>Solarkraft, energie, photovoltaik, pv, solar, ...</td>\n",
       "    </tr>\n",
       "  </tbody>\n",
       "</table>\n",
       "</div>"
      ],
      "text/plain": [
       "   deal_id   deal_name deal_type_name  target_company_id target_name  \\\n",
       "0      194  1303 Sonne          OTHER                825       Sonne   \n",
       "\n",
       "                                  target_description  target_revenue  \\\n",
       "0  •\\t350MWp of solar photovoltaic project assets...              15   \n",
       "\n",
       "   target_ebitda  target_ebit country_name region_name sector_name  \\\n",
       "0              3            3      Germany     Bavaria      Energy   \n",
       "\n",
       "                                                strs  \n",
       "0  Solarkraft, energie, photovoltaik, pv, solar, ...  "
      ]
     },
     "execution_count": 37,
     "metadata": {},
     "output_type": "execute_result"
    }
   ],
   "source": [
    "pd.DataFrame(dict(df))"
   ]
  },
  {
   "cell_type": "code",
   "execution_count": 38,
   "id": "ab318848",
   "metadata": {},
   "outputs": [
    {
     "data": {
      "text/plain": [
       "Index(['deal_id', 'deal_name', 'deal_type_name', 'target_company_id',\n",
       "       'target_name', 'target_description', 'target_revenue', 'target_ebitda',\n",
       "       'target_ebit', 'country_name', 'region_name', 'sector_name', 'strs'],\n",
       "      dtype='object')"
      ]
     },
     "execution_count": 38,
     "metadata": {},
     "output_type": "execute_result"
    }
   ],
   "source": [
    "df.columns"
   ]
  },
  {
   "cell_type": "code",
   "execution_count": 16,
   "id": "d846494d",
   "metadata": {},
   "outputs": [
    {
     "name": "stdout",
     "output_type": "stream",
     "text": [
      "--deal_id--\n",
      "194\n",
      "--deal_name--\n",
      "1303 Sonne\n",
      "--deal_type_name--\n",
      "OTHER\n",
      "--target_company_id--\n",
      "825\n",
      "--target_name--\n",
      "Sonne\n",
      "--target_description--\n",
      "•\t350MWp of solar photovoltaic project assets for sale in Greece\n",
      "•\tLocal DNI ca. 1550\n",
      "•\tLand leases/titles and production licenses secured, Environmental (EAL)/Connection/Construction deliverable at Closing\n",
      "•\t11 single project sites held by a small number of special purpose vehicles whose sole assets are the projects\n",
      "•\tTransaction to be structured as share sale and purchase agreement of SPVs\n",
      "•\tProjects delivered RTB with tariff award readiness, ready for auction participation/private PPA/merchanting\n",
      "•\tTransfer possible in early Q1 2021\n",
      "•\tOff-taker arrangements (including off-take pricing) to be concluded by and for account of purchaser\n",
      "•\tSeller ready to undertake local advisory services post-sale, subject to contract: EPC appointment, local authority advisory, off-take advisory etc. \n",
      "•\tConsideration equivalent to MWp €65,000, total consideration ca. €23m\n",
      "--target_revenue--\n",
      "15\n",
      "--target_ebitda--\n",
      "3\n",
      "--target_ebit--\n",
      "3\n",
      "--country_name--\n",
      "Germany\n",
      "--region_name--\n",
      "Bavaria\n",
      "--sector_name--\n",
      "Energy\n",
      "--strs--\n",
      "Solarkraft, energie, photovoltaik, pv, solar, Windkraftanlage, Solaranlage\n"
     ]
    }
   ],
   "source": [
    "for x in df.columns:\n",
    "    print(f'--{x}--')\n",
    "    print(df[x][0])"
   ]
  },
  {
   "cell_type": "code",
   "execution_count": 13,
   "id": "79bae1c9",
   "metadata": {},
   "outputs": [
    {
     "data": {
      "text/html": [
       "<div>\n",
       "<style scoped>\n",
       "    .dataframe tbody tr th:only-of-type {\n",
       "        vertical-align: middle;\n",
       "    }\n",
       "\n",
       "    .dataframe tbody tr th {\n",
       "        vertical-align: top;\n",
       "    }\n",
       "\n",
       "    .dataframe thead th {\n",
       "        text-align: right;\n",
       "    }\n",
       "</style>\n",
       "<table border=\"1\" class=\"dataframe\">\n",
       "  <thead>\n",
       "    <tr style=\"text-align: right;\">\n",
       "      <th></th>\n",
       "      <th>deal_id</th>\n",
       "      <th>deal_name</th>\n",
       "    </tr>\n",
       "  </thead>\n",
       "  <tbody>\n",
       "    <tr>\n",
       "      <th>0</th>\n",
       "      <td>134</td>\n",
       "      <td>hello</td>\n",
       "    </tr>\n",
       "  </tbody>\n",
       "</table>\n",
       "</div>"
      ],
      "text/plain": [
       "   deal_id deal_name\n",
       "0      134     hello"
      ]
     },
     "execution_count": 13,
     "metadata": {},
     "output_type": "execute_result"
    }
   ],
   "source": [
    "pd.DataFrame(dict(deal_id=134, deal_name='hello'), index=[0])"
   ]
  },
  {
   "cell_type": "code",
   "execution_count": 22,
   "id": "08ef17c9",
   "metadata": {},
   "outputs": [],
   "source": [
    "def recommend(deal_id, deal_name, deal_type_name, target_company_id,\n",
    "              target_name, target_description, target_revenue, target_ebitda,\n",
    "              target_ebit, country_name, region_name, sector_name, strs):\n",
    "    \n",
    "    X = pd.DataFrame(dict(\n",
    "       deal_id=[int(deal_id)],\n",
    "       deal_name=[str(deal_name)],\n",
    "       deal_type_name=[str(deal_type_name)],\n",
    "       target_company_id=[int(target_company_id)],\n",
    "       target_name=[str(target_name)],\n",
    "       target_description=[target_description],\n",
    "       target_revenue=[int(target_revenue)],\n",
    "       target_ebitda=[int(target_ebitda)],\n",
    "       target_ebit=[int(target_ebit)],\n",
    "       country_name=[str(country_name)],\n",
    "       region_name=[str(region_name)],\n",
    "       sector_name=[str(sector_name)],\n",
    "       strs=[str(strs)]),\n",
    "                    index=[0])\n",
    "    \n",
    "    res = X['deal_id'][0]\n",
    "    return dict(res=res)"
   ]
  },
  {
   "cell_type": "code",
   "execution_count": 23,
   "id": "67373673",
   "metadata": {},
   "outputs": [
    {
     "data": {
      "text/plain": [
       "{'res': 1}"
      ]
     },
     "execution_count": 23,
     "metadata": {},
     "output_type": "execute_result"
    }
   ],
   "source": [
    "recommend(1,1,1,1,1,1,1,1,1,1,1,1,1)"
   ]
  },
  {
   "cell_type": "markdown",
   "id": "b2b94d90",
   "metadata": {},
   "source": [
    "# UI"
   ]
  },
  {
   "cell_type": "code",
   "execution_count": 2,
   "id": "bafc68ae",
   "metadata": {},
   "outputs": [],
   "source": [
    "filepath2='./ui_dropdown_options.xlsx'"
   ]
  },
  {
   "cell_type": "code",
   "execution_count": 7,
   "id": "f3e7ddd4",
   "metadata": {},
   "outputs": [],
   "source": [
    "import pandas as pd\n",
    "ui_options = pd.read_excel(filepath2)"
   ]
  },
  {
   "cell_type": "code",
   "execution_count": 27,
   "id": "7a0939d3",
   "metadata": {},
   "outputs": [
    {
     "data": {
      "text/html": [
       "<div>\n",
       "<style scoped>\n",
       "    .dataframe tbody tr th:only-of-type {\n",
       "        vertical-align: middle;\n",
       "    }\n",
       "\n",
       "    .dataframe tbody tr th {\n",
       "        vertical-align: top;\n",
       "    }\n",
       "\n",
       "    .dataframe thead th {\n",
       "        text-align: right;\n",
       "    }\n",
       "</style>\n",
       "<table border=\"1\" class=\"dataframe\">\n",
       "  <thead>\n",
       "    <tr style=\"text-align: right;\">\n",
       "      <th></th>\n",
       "      <th>deal_type_name</th>\n",
       "      <th>country_name</th>\n",
       "      <th>region_name</th>\n",
       "      <th>sector_name</th>\n",
       "    </tr>\n",
       "  </thead>\n",
       "  <tbody>\n",
       "    <tr>\n",
       "      <th>0</th>\n",
       "      <td>cat_tr__deal_type_name_DISTRESSED</td>\n",
       "      <td>cat_tr__country_name_Austria</td>\n",
       "      <td>cat_tr__region_name_Baden-Württemberg</td>\n",
       "      <td>cat_tr__sector_name_Agriculture</td>\n",
       "    </tr>\n",
       "    <tr>\n",
       "      <th>1</th>\n",
       "      <td>cat_tr__deal_type_name_MAJORITY</td>\n",
       "      <td>cat_tr__country_name_Belgium</td>\n",
       "      <td>cat_tr__region_name_Bavaria</td>\n",
       "      <td>cat_tr__sector_name_Automotive</td>\n",
       "    </tr>\n",
       "    <tr>\n",
       "      <th>2</th>\n",
       "      <td>cat_tr__deal_type_name_MINORITY</td>\n",
       "      <td>cat_tr__country_name_Bulgaria</td>\n",
       "      <td>cat_tr__region_name_Berlin</td>\n",
       "      <td>cat_tr__sector_name_Biotechnology &amp; Life Sciences</td>\n",
       "    </tr>\n",
       "    <tr>\n",
       "      <th>3</th>\n",
       "      <td>cat_tr__deal_type_name_OTHER</td>\n",
       "      <td>cat_tr__country_name_Czechia</td>\n",
       "      <td>cat_tr__region_name_Brandenburg</td>\n",
       "      <td>cat_tr__sector_name_Chemicals</td>\n",
       "    </tr>\n",
       "    <tr>\n",
       "      <th>4</th>\n",
       "      <td>cat_tr__deal_type_name_VC</td>\n",
       "      <td>cat_tr__country_name_Egypt</td>\n",
       "      <td>cat_tr__region_name_Bremen</td>\n",
       "      <td>cat_tr__sector_name_Computer Hardware &amp; Equipment</td>\n",
       "    </tr>\n",
       "  </tbody>\n",
       "</table>\n",
       "</div>"
      ],
      "text/plain": [
       "                      deal_type_name                   country_name  \\\n",
       "0  cat_tr__deal_type_name_DISTRESSED   cat_tr__country_name_Austria   \n",
       "1    cat_tr__deal_type_name_MAJORITY   cat_tr__country_name_Belgium   \n",
       "2    cat_tr__deal_type_name_MINORITY  cat_tr__country_name_Bulgaria   \n",
       "3       cat_tr__deal_type_name_OTHER   cat_tr__country_name_Czechia   \n",
       "4          cat_tr__deal_type_name_VC     cat_tr__country_name_Egypt   \n",
       "\n",
       "                             region_name  \\\n",
       "0  cat_tr__region_name_Baden-Württemberg   \n",
       "1            cat_tr__region_name_Bavaria   \n",
       "2             cat_tr__region_name_Berlin   \n",
       "3        cat_tr__region_name_Brandenburg   \n",
       "4             cat_tr__region_name_Bremen   \n",
       "\n",
       "                                         sector_name  \n",
       "0                    cat_tr__sector_name_Agriculture  \n",
       "1                     cat_tr__sector_name_Automotive  \n",
       "2  cat_tr__sector_name_Biotechnology & Life Sciences  \n",
       "3                      cat_tr__sector_name_Chemicals  \n",
       "4  cat_tr__sector_name_Computer Hardware & Equipment  "
      ]
     },
     "execution_count": 27,
     "metadata": {},
     "output_type": "execute_result"
    }
   ],
   "source": [
    "ui_options.head()"
   ]
  },
  {
   "cell_type": "code",
   "execution_count": 30,
   "id": "ca61bce7",
   "metadata": {},
   "outputs": [
    {
     "data": {
      "text/plain": [
       "['Agriculture',\n",
       " 'Automotive',\n",
       " 'Biotechnology & Life Sciences',\n",
       " 'Chemicals',\n",
       " 'Computer Hardware & Equipment',\n",
       " 'Construction',\n",
       " 'Consumer Goods & Apparel',\n",
       " 'Defense',\n",
       " 'Electronics',\n",
       " 'Energy',\n",
       " 'Financial Services',\n",
       " 'Food & Beverages',\n",
       " 'Food & Staples Retailing',\n",
       " 'Health Care Equipment & Services',\n",
       " 'IT services',\n",
       " 'Industrial automation',\n",
       " 'Industrial products and services',\n",
       " 'Insurance',\n",
       " 'Internet/ecommerce',\n",
       " 'Leisure & consumer services',\n",
       " 'Manufacturing (other)',\n",
       " 'Media',\n",
       " 'Mining',\n",
       " 'Pharmaceuticals',\n",
       " 'Professional Services (B2B)',\n",
       " 'Real Estate',\n",
       " 'Retailing',\n",
       " 'Semiconductors & Semiconductor Equipment',\n",
       " 'Software & Services',\n",
       " 'Telecommunication Hardware',\n",
       " 'Telecommunication Services',\n",
       " 'Transportation',\n",
       " 'Utilities']"
      ]
     },
     "execution_count": 30,
     "metadata": {},
     "output_type": "execute_result"
    }
   ],
   "source": [
    "sectors=pd.DataFrame(ui_options['sector_name'].dropna().reset_index(drop=True))\n",
    "\n",
    "sectors = sectors['sector_name'].apply(lambda x: x.replace(\"cat_tr__sector_name_\", \"\"))\n",
    "\n",
    "list(sectors)"
   ]
  },
  {
   "cell_type": "code",
   "execution_count": 29,
   "id": "421feb15",
   "metadata": {},
   "outputs": [
    {
     "data": {
      "text/plain": [
       "['Baden-Württemberg',\n",
       " 'Bavaria',\n",
       " 'Berlin',\n",
       " 'Brandenburg',\n",
       " 'Bremen',\n",
       " 'Hamburg',\n",
       " 'Hesse',\n",
       " 'Lower Saxony',\n",
       " 'Mecklenburg-Vorpommern',\n",
       " 'North Rhine-Westphalia',\n",
       " 'Rhineland-Palatinate',\n",
       " 'Saarland',\n",
       " 'Saxony',\n",
       " 'Saxony-Anhalt',\n",
       " 'Schleswig-Holstein',\n",
       " 'Thuringia']"
      ]
     },
     "execution_count": 29,
     "metadata": {},
     "output_type": "execute_result"
    }
   ],
   "source": [
    "regions=pd.DataFrame(ui_options['region_name'].dropna().reset_index(drop=True))\n",
    "\n",
    "regions = regions['region_name'].apply(lambda x: x.replace(\"cat_tr__region_name_\", \"\"))\n",
    "\n",
    "list(regions)"
   ]
  },
  {
   "cell_type": "code",
   "execution_count": 25,
   "id": "1fbe3899",
   "metadata": {},
   "outputs": [
    {
     "data": {
      "text/plain": [
       "['DISTRESSED', 'MAJORITY', 'MINORITY', 'OTHER', 'VC']"
      ]
     },
     "execution_count": 25,
     "metadata": {},
     "output_type": "execute_result"
    }
   ],
   "source": [
    "deal_type=pd.DataFrame(ui_options['deal_type_name'].dropna().reset_index(drop=True))\n",
    "\n",
    "deal_type = deal_type['deal_type_name'].apply(lambda x: x.replace(\"cat_tr__deal_type_name_\", \"\"))\n",
    "\n",
    "list(deal_type)"
   ]
  },
  {
   "cell_type": "code",
   "execution_count": 28,
   "id": "664fc377",
   "metadata": {},
   "outputs": [
    {
     "data": {
      "text/plain": [
       "['Austria',\n",
       " 'Belgium',\n",
       " 'Bulgaria',\n",
       " 'Czechia',\n",
       " 'Egypt',\n",
       " 'Germany',\n",
       " 'Italy',\n",
       " 'Netherlands',\n",
       " 'Poland',\n",
       " 'Portugal',\n",
       " 'Romania',\n",
       " 'Slovakia',\n",
       " 'Spain',\n",
       " 'Switzerland',\n",
       " 'United States of America']"
      ]
     },
     "execution_count": 28,
     "metadata": {},
     "output_type": "execute_result"
    }
   ],
   "source": [
    "countries=pd.DataFrame(ui_options['country_name'].dropna().reset_index(drop=True))\n",
    "\n",
    "countries = countries['country_name'].apply(lambda x: x.replace(\"cat_tr__country_name_\", \"\"))\n",
    "\n",
    "list(countries)"
   ]
  },
  {
   "cell_type": "code",
   "execution_count": 5,
   "id": "fb09fdb3",
   "metadata": {},
   "outputs": [
    {
     "data": {
      "text/html": [
       "<div>\n",
       "<style scoped>\n",
       "    .dataframe tbody tr th:only-of-type {\n",
       "        vertical-align: middle;\n",
       "    }\n",
       "\n",
       "    .dataframe tbody tr th {\n",
       "        vertical-align: top;\n",
       "    }\n",
       "\n",
       "    .dataframe thead th {\n",
       "        text-align: right;\n",
       "    }\n",
       "</style>\n",
       "<table border=\"1\" class=\"dataframe\">\n",
       "  <thead>\n",
       "    <tr style=\"text-align: right;\">\n",
       "      <th></th>\n",
       "      <th>name</th>\n",
       "      <th>match_probability</th>\n",
       "      <th>description</th>\n",
       "      <th>distance_target&lt;=&gt;investor</th>\n",
       "      <th>Rationale</th>\n",
       "    </tr>\n",
       "  </thead>\n",
       "  <tbody>\n",
       "    <tr>\n",
       "      <th>1</th>\n",
       "      <td>NaN</td>\n",
       "      <td>NaN</td>\n",
       "      <td>NaN</td>\n",
       "      <td>NaN</td>\n",
       "      <td>NaN</td>\n",
       "    </tr>\n",
       "    <tr>\n",
       "      <th>2</th>\n",
       "      <td>NaN</td>\n",
       "      <td>NaN</td>\n",
       "      <td>NaN</td>\n",
       "      <td>NaN</td>\n",
       "      <td>NaN</td>\n",
       "    </tr>\n",
       "    <tr>\n",
       "      <th>3</th>\n",
       "      <td>NaN</td>\n",
       "      <td>NaN</td>\n",
       "      <td>NaN</td>\n",
       "      <td>NaN</td>\n",
       "      <td>NaN</td>\n",
       "    </tr>\n",
       "    <tr>\n",
       "      <th>4</th>\n",
       "      <td>NaN</td>\n",
       "      <td>NaN</td>\n",
       "      <td>NaN</td>\n",
       "      <td>NaN</td>\n",
       "      <td>NaN</td>\n",
       "    </tr>\n",
       "    <tr>\n",
       "      <th>5</th>\n",
       "      <td>NaN</td>\n",
       "      <td>NaN</td>\n",
       "      <td>NaN</td>\n",
       "      <td>NaN</td>\n",
       "      <td>NaN</td>\n",
       "    </tr>\n",
       "    <tr>\n",
       "      <th>6</th>\n",
       "      <td>NaN</td>\n",
       "      <td>NaN</td>\n",
       "      <td>NaN</td>\n",
       "      <td>NaN</td>\n",
       "      <td>NaN</td>\n",
       "    </tr>\n",
       "    <tr>\n",
       "      <th>7</th>\n",
       "      <td>NaN</td>\n",
       "      <td>NaN</td>\n",
       "      <td>NaN</td>\n",
       "      <td>NaN</td>\n",
       "      <td>NaN</td>\n",
       "    </tr>\n",
       "    <tr>\n",
       "      <th>8</th>\n",
       "      <td>NaN</td>\n",
       "      <td>NaN</td>\n",
       "      <td>NaN</td>\n",
       "      <td>NaN</td>\n",
       "      <td>NaN</td>\n",
       "    </tr>\n",
       "    <tr>\n",
       "      <th>9</th>\n",
       "      <td>NaN</td>\n",
       "      <td>NaN</td>\n",
       "      <td>NaN</td>\n",
       "      <td>NaN</td>\n",
       "      <td>NaN</td>\n",
       "    </tr>\n",
       "    <tr>\n",
       "      <th>10</th>\n",
       "      <td>NaN</td>\n",
       "      <td>NaN</td>\n",
       "      <td>NaN</td>\n",
       "      <td>NaN</td>\n",
       "      <td>NaN</td>\n",
       "    </tr>\n",
       "  </tbody>\n",
       "</table>\n",
       "</div>"
      ],
      "text/plain": [
       "    name  match_probability  description  distance_target<=>investor  \\\n",
       "1    NaN                NaN          NaN                         NaN   \n",
       "2    NaN                NaN          NaN                         NaN   \n",
       "3    NaN                NaN          NaN                         NaN   \n",
       "4    NaN                NaN          NaN                         NaN   \n",
       "5    NaN                NaN          NaN                         NaN   \n",
       "6    NaN                NaN          NaN                         NaN   \n",
       "7    NaN                NaN          NaN                         NaN   \n",
       "8    NaN                NaN          NaN                         NaN   \n",
       "9    NaN                NaN          NaN                         NaN   \n",
       "10   NaN                NaN          NaN                         NaN   \n",
       "\n",
       "    Rationale  \n",
       "1         NaN  \n",
       "2         NaN  \n",
       "3         NaN  \n",
       "4         NaN  \n",
       "5         NaN  \n",
       "6         NaN  \n",
       "7         NaN  \n",
       "8         NaN  \n",
       "9         NaN  \n",
       "10        NaN  "
      ]
     },
     "execution_count": 5,
     "metadata": {},
     "output_type": "execute_result"
    }
   ],
   "source": [
    "import requests\n",
    "import numpy as np\n",
    "import pandas as pd\n",
    "api_url = f'https://dealmatch-rec3-jlx73eg7oq-ew.a.run.app/recommend?deal_id=234&deal_name=Sonne%20134&deal_type_name=OTHER&target_company_id=123&target_name=Sonne&target_description=%E2%80%A2%09350MWp%20of%20solar%20photovoltaic%20project%20assets%20for%20sale%20in%20Greece%20%E2%80%A2%09Local%20DNI%20ca.%201550%20%E2%80%A2%09Land%20leases%2Ftitles%20and%20production%20licenses%20secured%2C%20Environmental%20%28EAL%29%2FConnection%2FConstruction%20deliverable%20at%20Closing%20%E2%80%A2%0911%20single%20project%20sites%20held%20by%20a%20small%20number%20of%20special%20purpose%20vehicles%20whose%20sole%20assets%20are%20the%20projects%20%E2%80%A2%09Transaction%20to%20be%20structured%20as%20share%20sale%20and%20purchase%20agreement%20of%20SPVs%20%E2%80%A2%09Projects%20delivered%20RTB%20with%20tariff%20award%20readiness%2C%20ready%20for%20auction%20participation%2Fprivate%20PPA%2Fmerchanting%20%E2%80%A2%09Transfer%20possible%20in%20early%20Q1%202021%20%E2%80%A2%09Off-taker%20arrangements%20%28including%20off-take%20pricing%29%20to%20be%20concluded%20by%20and%20for%20account%20of%20purchaser%20%E2%80%A2%09Seller%20ready%20to%20undertake%20local%20advisory%20services%20post-sale%2C%20subject%20to%20contract%3A%20EPC%20appointment%2C%20local%20authority%20advisory%2C%20off-take%20advisory%20etc.%20%20%E2%80%A2%09Consideration%20equivalent%20to%20MWp%20%E2%82%AC65%2C000%2C%20total%20consideration%20ca.%20%E2%82%AC23m&target_revenue=15&target_ebitda=3&target_ebit=3&country_name=Germany&region_name=Bavaria&sector_name=Energy&strs=Solarkraft%2C%20energie%2C%20photovoltaik%2C%20pv%2C%20solar%2C%20Windkraftanlage%2C%20Solaranlage'\n",
    "response = requests.get(api_url).json()\n",
    "response_df = pd.DataFrame(response, index=list(range(0, 10)))\n",
    "response_df.index = np.arange(1, len(response_df)+1)\n",
    "response_df"
   ]
  },
  {
   "cell_type": "code",
   "execution_count": 26,
   "id": "d9e15f79",
   "metadata": {},
   "outputs": [
    {
     "data": {
      "text/plain": [
       "dict_keys(['name', 'match_probability', 'description', 'distance_target<=>investor', 'Rationale'])"
      ]
     },
     "execution_count": 26,
     "metadata": {},
     "output_type": "execute_result"
    }
   ],
   "source": [
    "response.keys()"
   ]
  },
  {
   "cell_type": "code",
   "execution_count": 28,
   "id": "074d0142",
   "metadata": {},
   "outputs": [
    {
     "data": {
      "text/html": [
       "<div>\n",
       "<style scoped>\n",
       "    .dataframe tbody tr th:only-of-type {\n",
       "        vertical-align: middle;\n",
       "    }\n",
       "\n",
       "    .dataframe tbody tr th {\n",
       "        vertical-align: top;\n",
       "    }\n",
       "\n",
       "    .dataframe thead th {\n",
       "        text-align: right;\n",
       "    }\n",
       "</style>\n",
       "<table border=\"1\" class=\"dataframe\">\n",
       "  <thead>\n",
       "    <tr style=\"text-align: right;\">\n",
       "      <th></th>\n",
       "      <th>name</th>\n",
       "      <th>match_probability</th>\n",
       "      <th>description</th>\n",
       "      <th>distance_target&lt;=&gt;investor</th>\n",
       "      <th>Rationale</th>\n",
       "    </tr>\n",
       "  </thead>\n",
       "  <tbody>\n",
       "    <tr>\n",
       "      <th>0</th>\n",
       "      <td>Copenhagen Infrastructure Partners</td>\n",
       "      <td>1</td>\n",
       "      <td>energie infrastruktur energie pumpen solar</td>\n",
       "      <td>0.505413</td>\n",
       "      <td>Fit gem. DealCircle Datenbank</td>\n",
       "    </tr>\n",
       "    <tr>\n",
       "      <th>1</th>\n",
       "      <td>Omnes Capital</td>\n",
       "      <td>1</td>\n",
       "      <td>medien software elektronik energie reinigung d...</td>\n",
       "      <td>0.505413</td>\n",
       "      <td>Fit gem. DealCircle Datenbank</td>\n",
       "    </tr>\n",
       "    <tr>\n",
       "      <th>2</th>\n",
       "      <td>aream Capital GmbH</td>\n",
       "      <td>1</td>\n",
       "      <td>energie solar</td>\n",
       "      <td>0.505413</td>\n",
       "      <td>Fit gem. DealCircle Datenbank</td>\n",
       "    </tr>\n",
       "    <tr>\n",
       "      <th>3</th>\n",
       "      <td>Blue Star Group GmbH</td>\n",
       "      <td>1</td>\n",
       "      <td>energie technologie solar</td>\n",
       "      <td>0.505413</td>\n",
       "      <td>Fit gem. DealCircle Datenbank</td>\n",
       "    </tr>\n",
       "    <tr>\n",
       "      <th>4</th>\n",
       "      <td>EB – Sustainable Investment Management GmbH</td>\n",
       "      <td>0</td>\n",
       "      <td>energie wasserkraftwerk solar</td>\n",
       "      <td>0.505413</td>\n",
       "      <td>Fit gem. DealCircle Datenbank</td>\n",
       "    </tr>\n",
       "    <tr>\n",
       "      <th>5</th>\n",
       "      <td>Vantage Infrastructure</td>\n",
       "      <td>0</td>\n",
       "      <td>infrastruktur</td>\n",
       "      <td>0.610076</td>\n",
       "      <td>Fit gem. DealCircle Datenbank</td>\n",
       "    </tr>\n",
       "    <tr>\n",
       "      <th>6</th>\n",
       "      <td>Whitehelm Capital</td>\n",
       "      <td>1</td>\n",
       "      <td>energie kraftwerk infrastruktur energie solar ...</td>\n",
       "      <td>0.610076</td>\n",
       "      <td>Fit gem. DealCircle Datenbank</td>\n",
       "    </tr>\n",
       "    <tr>\n",
       "      <th>7</th>\n",
       "      <td>EIG Global Energy Partners</td>\n",
       "      <td>0</td>\n",
       "      <td>infrastruktur energie agnostisch solar</td>\n",
       "      <td>0.610076</td>\n",
       "      <td>Fit gem. DealCircle Datenbank</td>\n",
       "    </tr>\n",
       "    <tr>\n",
       "      <th>8</th>\n",
       "      <td>Hasso Plattner Ventures Management GmbH</td>\n",
       "      <td>0</td>\n",
       "      <td>software elektronik energie reinigung dienstei...</td>\n",
       "      <td>0.904199</td>\n",
       "      <td>Fit gem. DealCircle Datenbank</td>\n",
       "    </tr>\n",
       "    <tr>\n",
       "      <th>9</th>\n",
       "      <td>Rbb Management AG</td>\n",
       "      <td>0</td>\n",
       "      <td>handel software elektronik energie reinigung d...</td>\n",
       "      <td>1.086982</td>\n",
       "      <td>Fit gem. DealCircle Datenbank</td>\n",
       "    </tr>\n",
       "    <tr>\n",
       "      <th>10</th>\n",
       "      <td>IFM Investors</td>\n",
       "      <td>0</td>\n",
       "      <td>infrastruktur agnostisch</td>\n",
       "      <td>1.110398</td>\n",
       "      <td>Fit gem. DealCircle Datenbank</td>\n",
       "    </tr>\n",
       "    <tr>\n",
       "      <th>11</th>\n",
       "      <td>Zouk Capital LLP</td>\n",
       "      <td>0</td>\n",
       "      <td>energie kraftwerk software infrastruktur energ...</td>\n",
       "      <td>1.297767</td>\n",
       "      <td>Fit gem. DealCircle Datenbank</td>\n",
       "    </tr>\n",
       "    <tr>\n",
       "      <th>12</th>\n",
       "      <td>Meridiam Infrastructure</td>\n",
       "      <td>1</td>\n",
       "      <td>energie kraftwerk infrastruktur</td>\n",
       "      <td>1.332051</td>\n",
       "      <td>Fit gem. DealCircle Datenbank</td>\n",
       "    </tr>\n",
       "    <tr>\n",
       "      <th>13</th>\n",
       "      <td>Blue Elephant Energy AG</td>\n",
       "      <td>0</td>\n",
       "      <td>infrastruktur solar windkraft</td>\n",
       "      <td>1.407268</td>\n",
       "      <td>Fit gem. DealCircle Datenbank</td>\n",
       "    </tr>\n",
       "    <tr>\n",
       "      <th>14</th>\n",
       "      <td>Abraxas Capital Management Limited</td>\n",
       "      <td>Manual Review Required</td>\n",
       "      <td>energie solar</td>\n",
       "      <td>0.505413</td>\n",
       "      <td>Fit gem. DealCircle Datenbank</td>\n",
       "    </tr>\n",
       "    <tr>\n",
       "      <th>15</th>\n",
       "      <td>Capital Stage AG - Encavis Asset Management AG</td>\n",
       "      <td>Manual Review Required</td>\n",
       "      <td>energie gesundheit biotechnologie solar energi...</td>\n",
       "      <td>0.505413</td>\n",
       "      <td>Fit gem. DealCircle Datenbank</td>\n",
       "    </tr>\n",
       "    <tr>\n",
       "      <th>16</th>\n",
       "      <td>GAM Capital</td>\n",
       "      <td>Manual Review Required</td>\n",
       "      <td>infrastruktur</td>\n",
       "      <td>0.610076</td>\n",
       "      <td>Fit gem. DealCircle Datenbank</td>\n",
       "    </tr>\n",
       "    <tr>\n",
       "      <th>17</th>\n",
       "      <td>Cubico Sustainable Investments Ltd.</td>\n",
       "      <td>Manual Review Required</td>\n",
       "      <td>solar</td>\n",
       "      <td>1.013617</td>\n",
       "      <td>Fit gem. DealCircle Datenbank</td>\n",
       "    </tr>\n",
       "    <tr>\n",
       "      <th>18</th>\n",
       "      <td>I-Source Gestion</td>\n",
       "      <td>Manual Review Required</td>\n",
       "      <td>software energie reinigung diensteistungen tel...</td>\n",
       "      <td>1.086839</td>\n",
       "      <td>Fit gem. DealCircle Datenbank</td>\n",
       "    </tr>\n",
       "    <tr>\n",
       "      <th>19</th>\n",
       "      <td>Spielmann Capital</td>\n",
       "      <td>Manual Review Required</td>\n",
       "      <td>immobilie infrastruktur</td>\n",
       "      <td>1.190476</td>\n",
       "      <td>Fit gem. DealCircle Datenbank</td>\n",
       "    </tr>\n",
       "    <tr>\n",
       "      <th>20</th>\n",
       "      <td>SUSI Partners AG</td>\n",
       "      <td>Manual Review Required</td>\n",
       "      <td>infrastruktur energie pumpen reinigung</td>\n",
       "      <td>1.239171</td>\n",
       "      <td>Fit gem. DealCircle Datenbank</td>\n",
       "    </tr>\n",
       "  </tbody>\n",
       "</table>\n",
       "</div>"
      ],
      "text/plain": [
       "                                              name       match_probability  \\\n",
       "0               Copenhagen Infrastructure Partners                       1   \n",
       "1                                    Omnes Capital                       1   \n",
       "2                               aream Capital GmbH                       1   \n",
       "3                             Blue Star Group GmbH                       1   \n",
       "4      EB – Sustainable Investment Management GmbH                       0   \n",
       "5                           Vantage Infrastructure                       0   \n",
       "6                                Whitehelm Capital                       1   \n",
       "7                       EIG Global Energy Partners                       0   \n",
       "8          Hasso Plattner Ventures Management GmbH                       0   \n",
       "9                                Rbb Management AG                       0   \n",
       "10                                   IFM Investors                       0   \n",
       "11                                Zouk Capital LLP                       0   \n",
       "12                         Meridiam Infrastructure                       1   \n",
       "13                         Blue Elephant Energy AG                       0   \n",
       "14              Abraxas Capital Management Limited  Manual Review Required   \n",
       "15  Capital Stage AG - Encavis Asset Management AG  Manual Review Required   \n",
       "16                                     GAM Capital  Manual Review Required   \n",
       "17             Cubico Sustainable Investments Ltd.  Manual Review Required   \n",
       "18                                I-Source Gestion  Manual Review Required   \n",
       "19                               Spielmann Capital  Manual Review Required   \n",
       "20                                SUSI Partners AG  Manual Review Required   \n",
       "\n",
       "                                          description  \\\n",
       "0          energie infrastruktur energie pumpen solar   \n",
       "1   medien software elektronik energie reinigung d...   \n",
       "2                                       energie solar   \n",
       "3                           energie technologie solar   \n",
       "4                       energie wasserkraftwerk solar   \n",
       "5                                       infrastruktur   \n",
       "6   energie kraftwerk infrastruktur energie solar ...   \n",
       "7              infrastruktur energie agnostisch solar   \n",
       "8   software elektronik energie reinigung dienstei...   \n",
       "9   handel software elektronik energie reinigung d...   \n",
       "10                           infrastruktur agnostisch   \n",
       "11  energie kraftwerk software infrastruktur energ...   \n",
       "12                    energie kraftwerk infrastruktur   \n",
       "13                      infrastruktur solar windkraft   \n",
       "14                                      energie solar   \n",
       "15  energie gesundheit biotechnologie solar energi...   \n",
       "16                                      infrastruktur   \n",
       "17                                              solar   \n",
       "18  software energie reinigung diensteistungen tel...   \n",
       "19                            immobilie infrastruktur   \n",
       "20             infrastruktur energie pumpen reinigung   \n",
       "\n",
       "    distance_target<=>investor                      Rationale  \n",
       "0                     0.505413  Fit gem. DealCircle Datenbank  \n",
       "1                     0.505413  Fit gem. DealCircle Datenbank  \n",
       "2                     0.505413  Fit gem. DealCircle Datenbank  \n",
       "3                     0.505413  Fit gem. DealCircle Datenbank  \n",
       "4                     0.505413  Fit gem. DealCircle Datenbank  \n",
       "5                     0.610076  Fit gem. DealCircle Datenbank  \n",
       "6                     0.610076  Fit gem. DealCircle Datenbank  \n",
       "7                     0.610076  Fit gem. DealCircle Datenbank  \n",
       "8                     0.904199  Fit gem. DealCircle Datenbank  \n",
       "9                     1.086982  Fit gem. DealCircle Datenbank  \n",
       "10                    1.110398  Fit gem. DealCircle Datenbank  \n",
       "11                    1.297767  Fit gem. DealCircle Datenbank  \n",
       "12                    1.332051  Fit gem. DealCircle Datenbank  \n",
       "13                    1.407268  Fit gem. DealCircle Datenbank  \n",
       "14                    0.505413  Fit gem. DealCircle Datenbank  \n",
       "15                    0.505413  Fit gem. DealCircle Datenbank  \n",
       "16                    0.610076  Fit gem. DealCircle Datenbank  \n",
       "17                    1.013617  Fit gem. DealCircle Datenbank  \n",
       "18                    1.086839  Fit gem. DealCircle Datenbank  \n",
       "19                    1.190476  Fit gem. DealCircle Datenbank  \n",
       "20                    1.239171  Fit gem. DealCircle Datenbank  "
      ]
     },
     "execution_count": 28,
     "metadata": {},
     "output_type": "execute_result"
    }
   ],
   "source": [
    "pd.DataFrame(\n",
    "    {'name': list(response['name'].values()),\n",
    "     'match_probability': list(response['match_probability'].values()),\n",
    "     'description': list(response['description'].values()),\n",
    "     'distance_target<=>investor': list(response['distance_target<=>investor'].values()),\n",
    "     'Rationale': list(response['Rationale'].values())})"
   ]
  },
  {
   "cell_type": "code",
   "execution_count": null,
   "id": "fa787369",
   "metadata": {},
   "outputs": [],
   "source": []
  }
 ],
 "metadata": {
  "kernelspec": {
   "display_name": "Python 3 (ipykernel)",
   "language": "python",
   "name": "python3"
  },
  "language_info": {
   "codemirror_mode": {
    "name": "ipython",
    "version": 3
   },
   "file_extension": ".py",
   "mimetype": "text/x-python",
   "name": "python",
   "nbconvert_exporter": "python",
   "pygments_lexer": "ipython3",
   "version": "3.8.12"
  },
  "toc": {
   "base_numbering": 1,
   "nav_menu": {},
   "number_sections": true,
   "sideBar": true,
   "skip_h1_title": false,
   "title_cell": "Table of Contents",
   "title_sidebar": "Contents",
   "toc_cell": true,
   "toc_position": {
    "height": "calc(100% - 180px)",
    "left": "10px",
    "top": "150px",
    "width": "165px"
   },
   "toc_section_display": true,
   "toc_window_display": true
  }
 },
 "nbformat": 4,
 "nbformat_minor": 5
}
