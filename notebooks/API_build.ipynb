{
 "cells": [
  {
   "cell_type": "markdown",
   "id": "7e9438fa",
   "metadata": {
    "toc": true
   },
   "source": [
    "<h1>Table of Contents<span class=\"tocSkip\"></span></h1>\n",
    "<div class=\"toc\"><ul class=\"toc-item\"></ul></div>"
   ]
  },
  {
   "cell_type": "code",
   "execution_count": 1,
   "id": "6a298001",
   "metadata": {},
   "outputs": [],
   "source": [
    "import pandas as pd"
   ]
  },
  {
   "cell_type": "code",
   "execution_count": 2,
   "id": "8b3e1077",
   "metadata": {},
   "outputs": [],
   "source": [
    "filepath = '../DealMatch/targets_clean_test.xlsx'\n",
    "df = pd.read_excel(filepath)"
   ]
  },
  {
   "cell_type": "code",
   "execution_count": 4,
   "id": "fcab555a",
   "metadata": {},
   "outputs": [
    {
     "data": {
      "text/plain": [
       "Index(['deal_id', 'deal_name', 'deal_type_name', 'target_company_id',\n",
       "       'target_name', 'target_description', 'target_revenue', 'target_ebitda',\n",
       "       'target_ebit', 'country_name', 'region_name', 'sector_name', 'strs'],\n",
       "      dtype='object')"
      ]
     },
     "execution_count": 4,
     "metadata": {},
     "output_type": "execute_result"
    }
   ],
   "source": [
    "df.columns"
   ]
  },
  {
   "cell_type": "code",
   "execution_count": 6,
   "id": "a8858856",
   "metadata": {},
   "outputs": [
    {
     "data": {
      "text/html": [
       "<div>\n",
       "<style scoped>\n",
       "    .dataframe tbody tr th:only-of-type {\n",
       "        vertical-align: middle;\n",
       "    }\n",
       "\n",
       "    .dataframe tbody tr th {\n",
       "        vertical-align: top;\n",
       "    }\n",
       "\n",
       "    .dataframe thead th {\n",
       "        text-align: right;\n",
       "    }\n",
       "</style>\n",
       "<table border=\"1\" class=\"dataframe\">\n",
       "  <thead>\n",
       "    <tr style=\"text-align: right;\">\n",
       "      <th></th>\n",
       "      <th>deal_id</th>\n",
       "      <th>deal_name</th>\n",
       "      <th>deal_type_name</th>\n",
       "      <th>target_company_id</th>\n",
       "      <th>target_name</th>\n",
       "      <th>target_description</th>\n",
       "      <th>target_revenue</th>\n",
       "      <th>target_ebitda</th>\n",
       "      <th>target_ebit</th>\n",
       "      <th>country_name</th>\n",
       "      <th>region_name</th>\n",
       "      <th>sector_name</th>\n",
       "      <th>strs</th>\n",
       "    </tr>\n",
       "  </thead>\n",
       "  <tbody>\n",
       "    <tr>\n",
       "      <th>0</th>\n",
       "      <td>194</td>\n",
       "      <td>1303 Sonne</td>\n",
       "      <td>OTHER</td>\n",
       "      <td>825</td>\n",
       "      <td>Sonne</td>\n",
       "      <td>•\\t350MWp of solar photovoltaic project assets...</td>\n",
       "      <td>15</td>\n",
       "      <td>3</td>\n",
       "      <td>3</td>\n",
       "      <td>Germany</td>\n",
       "      <td>Bavaria</td>\n",
       "      <td>Energy</td>\n",
       "      <td>Solarkraft, energie, photovoltaik, pv, solar, ...</td>\n",
       "    </tr>\n",
       "  </tbody>\n",
       "</table>\n",
       "</div>"
      ],
      "text/plain": [
       "   deal_id   deal_name deal_type_name  target_company_id target_name  \\\n",
       "0      194  1303 Sonne          OTHER                825       Sonne   \n",
       "\n",
       "                                  target_description  target_revenue  \\\n",
       "0  •\\t350MWp of solar photovoltaic project assets...              15   \n",
       "\n",
       "   target_ebitda  target_ebit country_name region_name sector_name  \\\n",
       "0              3            3      Germany     Bavaria      Energy   \n",
       "\n",
       "                                                strs  \n",
       "0  Solarkraft, energie, photovoltaik, pv, solar, ...  "
      ]
     },
     "execution_count": 6,
     "metadata": {},
     "output_type": "execute_result"
    }
   ],
   "source": [
    "df.head()"
   ]
  },
  {
   "cell_type": "code",
   "execution_count": 18,
   "id": "fc03abf4",
   "metadata": {},
   "outputs": [
    {
     "data": {
      "text/plain": [
       "194"
      ]
     },
     "execution_count": 18,
     "metadata": {},
     "output_type": "execute_result"
    }
   ],
   "source": [
    "df['deal_id'][0]"
   ]
  },
  {
   "cell_type": "code",
   "execution_count": 19,
   "id": "a1bbd4a4",
   "metadata": {},
   "outputs": [
    {
     "data": {
      "text/html": [
       "<div>\n",
       "<style scoped>\n",
       "    .dataframe tbody tr th:only-of-type {\n",
       "        vertical-align: middle;\n",
       "    }\n",
       "\n",
       "    .dataframe tbody tr th {\n",
       "        vertical-align: top;\n",
       "    }\n",
       "\n",
       "    .dataframe thead th {\n",
       "        text-align: right;\n",
       "    }\n",
       "</style>\n",
       "<table border=\"1\" class=\"dataframe\">\n",
       "  <thead>\n",
       "    <tr style=\"text-align: right;\">\n",
       "      <th></th>\n",
       "      <th>deal_id</th>\n",
       "      <th>deal_name</th>\n",
       "      <th>deal_type_name</th>\n",
       "      <th>target_company_id</th>\n",
       "      <th>target_name</th>\n",
       "      <th>target_description</th>\n",
       "      <th>target_revenue</th>\n",
       "      <th>target_ebitda</th>\n",
       "      <th>target_ebit</th>\n",
       "      <th>country_name</th>\n",
       "      <th>region_name</th>\n",
       "      <th>sector_name</th>\n",
       "      <th>strs</th>\n",
       "    </tr>\n",
       "  </thead>\n",
       "  <tbody>\n",
       "    <tr>\n",
       "      <th>0</th>\n",
       "      <td>194</td>\n",
       "      <td>1303 Sonne</td>\n",
       "      <td>OTHER</td>\n",
       "      <td>825</td>\n",
       "      <td>Sonne</td>\n",
       "      <td>•\\t350MWp of solar photovoltaic project assets...</td>\n",
       "      <td>15</td>\n",
       "      <td>3</td>\n",
       "      <td>3</td>\n",
       "      <td>Germany</td>\n",
       "      <td>Bavaria</td>\n",
       "      <td>Energy</td>\n",
       "      <td>Solarkraft, energie, photovoltaik, pv, solar, ...</td>\n",
       "    </tr>\n",
       "  </tbody>\n",
       "</table>\n",
       "</div>"
      ],
      "text/plain": [
       "   deal_id   deal_name deal_type_name  target_company_id target_name  \\\n",
       "0      194  1303 Sonne          OTHER                825       Sonne   \n",
       "\n",
       "                                  target_description  target_revenue  \\\n",
       "0  •\\t350MWp of solar photovoltaic project assets...              15   \n",
       "\n",
       "   target_ebitda  target_ebit country_name region_name sector_name  \\\n",
       "0              3            3      Germany     Bavaria      Energy   \n",
       "\n",
       "                                                strs  \n",
       "0  Solarkraft, energie, photovoltaik, pv, solar, ...  "
      ]
     },
     "execution_count": 19,
     "metadata": {},
     "output_type": "execute_result"
    }
   ],
   "source": [
    "pd.DataFrame(dict(df))"
   ]
  },
  {
   "cell_type": "code",
   "execution_count": 16,
   "id": "d846494d",
   "metadata": {},
   "outputs": [
    {
     "name": "stdout",
     "output_type": "stream",
     "text": [
      "--deal_id--\n",
      "194\n",
      "--deal_name--\n",
      "1303 Sonne\n",
      "--deal_type_name--\n",
      "OTHER\n",
      "--target_company_id--\n",
      "825\n",
      "--target_name--\n",
      "Sonne\n",
      "--target_description--\n",
      "•\t350MWp of solar photovoltaic project assets for sale in Greece\n",
      "•\tLocal DNI ca. 1550\n",
      "•\tLand leases/titles and production licenses secured, Environmental (EAL)/Connection/Construction deliverable at Closing\n",
      "•\t11 single project sites held by a small number of special purpose vehicles whose sole assets are the projects\n",
      "•\tTransaction to be structured as share sale and purchase agreement of SPVs\n",
      "•\tProjects delivered RTB with tariff award readiness, ready for auction participation/private PPA/merchanting\n",
      "•\tTransfer possible in early Q1 2021\n",
      "•\tOff-taker arrangements (including off-take pricing) to be concluded by and for account of purchaser\n",
      "•\tSeller ready to undertake local advisory services post-sale, subject to contract: EPC appointment, local authority advisory, off-take advisory etc. \n",
      "•\tConsideration equivalent to MWp €65,000, total consideration ca. €23m\n",
      "--target_revenue--\n",
      "15\n",
      "--target_ebitda--\n",
      "3\n",
      "--target_ebit--\n",
      "3\n",
      "--country_name--\n",
      "Germany\n",
      "--region_name--\n",
      "Bavaria\n",
      "--sector_name--\n",
      "Energy\n",
      "--strs--\n",
      "Solarkraft, energie, photovoltaik, pv, solar, Windkraftanlage, Solaranlage\n"
     ]
    }
   ],
   "source": [
    "for x in df.columns:\n",
    "    print(f'--{x}--')\n",
    "    print(df[x][0])"
   ]
  },
  {
   "cell_type": "code",
   "execution_count": 13,
   "id": "79bae1c9",
   "metadata": {},
   "outputs": [
    {
     "data": {
      "text/html": [
       "<div>\n",
       "<style scoped>\n",
       "    .dataframe tbody tr th:only-of-type {\n",
       "        vertical-align: middle;\n",
       "    }\n",
       "\n",
       "    .dataframe tbody tr th {\n",
       "        vertical-align: top;\n",
       "    }\n",
       "\n",
       "    .dataframe thead th {\n",
       "        text-align: right;\n",
       "    }\n",
       "</style>\n",
       "<table border=\"1\" class=\"dataframe\">\n",
       "  <thead>\n",
       "    <tr style=\"text-align: right;\">\n",
       "      <th></th>\n",
       "      <th>deal_id</th>\n",
       "      <th>deal_name</th>\n",
       "    </tr>\n",
       "  </thead>\n",
       "  <tbody>\n",
       "    <tr>\n",
       "      <th>0</th>\n",
       "      <td>134</td>\n",
       "      <td>hello</td>\n",
       "    </tr>\n",
       "  </tbody>\n",
       "</table>\n",
       "</div>"
      ],
      "text/plain": [
       "   deal_id deal_name\n",
       "0      134     hello"
      ]
     },
     "execution_count": 13,
     "metadata": {},
     "output_type": "execute_result"
    }
   ],
   "source": [
    "pd.DataFrame(dict(deal_id=134, deal_name='hello'), index=[0])"
   ]
  },
  {
   "cell_type": "code",
   "execution_count": 22,
   "id": "08ef17c9",
   "metadata": {},
   "outputs": [],
   "source": [
    "def recommend(deal_id, deal_name, deal_type_name, target_company_id,\n",
    "              target_name, target_description, target_revenue, target_ebitda,\n",
    "              target_ebit, country_name, region_name, sector_name, strs):\n",
    "    \n",
    "    X = pd.DataFrame(dict(\n",
    "       deal_id=[int(deal_id)],\n",
    "       deal_name=[str(deal_name)],\n",
    "       deal_type_name=[str(deal_type_name)],\n",
    "       target_company_id=[int(target_company_id)],\n",
    "       target_name=[str(target_name)],\n",
    "       target_description=[target_description],\n",
    "       target_revenue=[int(target_revenue)],\n",
    "       target_ebitda=[int(target_ebitda)],\n",
    "       target_ebit=[int(target_ebit)],\n",
    "       country_name=[str(country_name)],\n",
    "       region_name=[str(region_name)],\n",
    "       sector_name=[str(sector_name)],\n",
    "       strs=[str(strs)]),\n",
    "                    index=[0])\n",
    "    \n",
    "    res = X['deal_id'][0]\n",
    "    return dict(res=res)"
   ]
  },
  {
   "cell_type": "code",
   "execution_count": 23,
   "id": "67373673",
   "metadata": {},
   "outputs": [
    {
     "data": {
      "text/plain": [
       "{'res': 1}"
      ]
     },
     "execution_count": 23,
     "metadata": {},
     "output_type": "execute_result"
    }
   ],
   "source": [
    "recommend(1,1,1,1,1,1,1,1,1,1,1,1,1)"
   ]
  },
  {
   "cell_type": "code",
   "execution_count": null,
   "id": "bafc68ae",
   "metadata": {},
   "outputs": [],
   "source": [
    "\n",
    "# #    pipeline = joblib.load('./model_supervised_MLP1.joblib')\n",
    "\n",
    "# #    results = pipeline.predict(X)\n",
    "\n",
    "   "
   ]
  }
 ],
 "metadata": {
  "kernelspec": {
   "display_name": "Python 3 (ipykernel)",
   "language": "python",
   "name": "python3"
  },
  "language_info": {
   "codemirror_mode": {
    "name": "ipython",
    "version": 3
   },
   "file_extension": ".py",
   "mimetype": "text/x-python",
   "name": "python",
   "nbconvert_exporter": "python",
   "pygments_lexer": "ipython3",
   "version": "3.8.12"
  },
  "toc": {
   "base_numbering": 1,
   "nav_menu": {},
   "number_sections": true,
   "sideBar": true,
   "skip_h1_title": false,
   "title_cell": "Table of Contents",
   "title_sidebar": "Contents",
   "toc_cell": true,
   "toc_position": {},
   "toc_section_display": true,
   "toc_window_display": true
  }
 },
 "nbformat": 4,
 "nbformat_minor": 5
}
