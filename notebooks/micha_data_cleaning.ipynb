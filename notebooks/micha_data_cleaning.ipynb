{
 "cells": [
  {
   "cell_type": "markdown",
   "id": "edc022f4",
   "metadata": {},
   "source": [
    "# DC DATA - Collection / Cleaning / Preprocessing"
   ]
  },
  {
   "cell_type": "markdown",
   "id": "d348ac3d",
   "metadata": {},
   "source": [
    "## Imports"
   ]
  },
  {
   "cell_type": "code",
   "execution_count": 5,
   "id": "21ea23bc",
   "metadata": {},
   "outputs": [
    {
     "ename": "ModuleNotFoundError",
     "evalue": "No module named 'DealMatch'",
     "output_type": "error",
     "traceback": [
      "\u001b[0;31m---------------------------------------------------------------------------\u001b[0m",
      "\u001b[0;31mModuleNotFoundError\u001b[0m                       Traceback (most recent call last)",
      "Input \u001b[0;32mIn [5]\u001b[0m, in \u001b[0;36m<module>\u001b[0;34m\u001b[0m\n\u001b[1;32m      4\u001b[0m \u001b[38;5;28;01mimport\u001b[39;00m \u001b[38;5;21;01mos\u001b[39;00m\n\u001b[1;32m      5\u001b[0m \u001b[38;5;28;01mfrom\u001b[39;00m \u001b[38;5;21;01msqlalchemy\u001b[39;00m \u001b[38;5;28;01mimport\u001b[39;00m create_engine\n\u001b[0;32m----> 6\u001b[0m \u001b[38;5;28;01mfrom\u001b[39;00m \u001b[38;5;21;01mDealMatch\u001b[39;00m\u001b[38;5;21;01m.\u001b[39;00m\u001b[38;5;21;01mdatabase_connector\u001b[39;00m \u001b[38;5;28;01mimport\u001b[39;00m db_connector\n\u001b[1;32m      7\u001b[0m \u001b[38;5;28;01mimport\u001b[39;00m \u001b[38;5;21;01mos\u001b[39;00m\n\u001b[1;32m      8\u001b[0m \u001b[38;5;28;01mfrom\u001b[39;00m \u001b[38;5;21;01mdotenv\u001b[39;00m \u001b[38;5;28;01mimport\u001b[39;00m load_dotenv\n",
      "\u001b[0;31mModuleNotFoundError\u001b[0m: No module named 'DealMatch'"
     ]
    }
   ],
   "source": [
    "import pandas as pd\n",
    "import numpy as np\n",
    "import pandas as pd\n",
    "import os\n",
    "from sqlalchemy import create_engine\n",
    "from DealMatch.database_connector import db_connector\n",
    "import os\n",
    "from dotenv import load_dotenv\n",
    "from sklearn.preprocessing import OneHotEncoder\n",
    "import matplotlib.pyplot as plt\n",
    "import seaborn as sns\n",
    "\n",
    "%load_ext autoreload\n",
    "%autoreload 2"
   ]
  },
  {
   "cell_type": "code",
   "execution_count": null,
   "id": "2bf1bc38",
   "metadata": {},
   "outputs": [],
   "source": [
    "pd.set_option('display.max_columns', 500)"
   ]
  },
  {
   "cell_type": "code",
   "execution_count": null,
   "id": "1ff060e8",
   "metadata": {},
   "outputs": [],
   "source": [
    "dbConnection = db_connector()"
   ]
  },
  {
   "cell_type": "markdown",
   "id": "39ce79a4",
   "metadata": {
    "heading_collapsed": true
   },
   "source": [
    "## DC Database queries"
   ]
  },
  {
   "cell_type": "code",
   "execution_count": null,
   "id": "934cee66",
   "metadata": {
    "hidden": true
   },
   "outputs": [],
   "source": [
    "query_investor_locations = \"\"\"\n",
    "        SELECT * \n",
    "        FROM companies c \n",
    "        LEFT JOIN invest_profiles ip ON ip.company_id = c.id\n",
    "        LEFT JOIN invest_profile_locations ipl ON ipl.invest_profile_id = ip.id \n",
    "        LEFT JOIN invest_profile_countries ipc ON ipc.invest_profile_location_id = ipl.id \n",
    "        LEFT JOIN countries c2 ON c2.id = ipc.country_id \n",
    "        WHERE c.company_category_id = 1; \n",
    "\"\"\""
   ]
  },
  {
   "cell_type": "code",
   "execution_count": null,
   "id": "08658192",
   "metadata": {
    "hidden": true
   },
   "outputs": [],
   "source": [
    "query_investor_deals = \"\"\"\n",
    "        SELECT * \n",
    "        FROM companies c \n",
    "        LEFT JOIN deals d ON d.company_id = c.id \n",
    "        LEFT JOIN deal_stages ds ON ds.id = d.deal_stage_id \n",
    "        LEFT JOIN deal_types dt ON dt.id = d.deal_type_id \n",
    "        LEFT JOIN deal_lost_reasons dlr ON dlr.id = d.lost_reason_id \n",
    "        LEFT JOIN countries c2 ON d.target_country_id = c2.id \n",
    "        LEFT JOIN regions r ON d.target_region_id = r.id \n",
    "        JOIN deal_sectors ds2 ON ds2.deal_id = d.id \n",
    "        JOIN sectors s ON s.id = ds2.sector_id \n",
    "        JOIN deal_subsectors ds3 ON ds2.id = ds3.deal_sector_id \n",
    "        JOIN subsectors s2 ON s2.id = ds3.subsector_id \n",
    "        WHERE c.company_category_id = 1;\n",
    "\"\"\""
   ]
  },
  {
   "cell_type": "code",
   "execution_count": null,
   "id": "73ca760e",
   "metadata": {
    "hidden": true
   },
   "outputs": [],
   "source": [
    "query_invest_profile_keywords = \"\"\"\n",
    "        SELECT * \n",
    "        FROM companies c \n",
    "        LEFT JOIN invest_profiles ip ON ip.company_id = c.id\n",
    "        LEFT JOIN invest_profile_keywords ipk ON ipk.invest_profile_id = ip.id \n",
    "        LEFT JOIN keywords k ON k.id = ipk.keyword_id \n",
    "        WHERE c.company_category_id = 1;\n",
    "\"\"\""
   ]
  },
  {
   "cell_type": "code",
   "execution_count": null,
   "id": "cd4735a2",
   "metadata": {
    "hidden": true
   },
   "outputs": [],
   "source": [
    "query_invest_profile_sectors_subsectors = \"\"\"\n",
    "        SELECT * \n",
    "        FROM companies c \n",
    "        LEFT JOIN invest_profiles ip ON ip.company_id = c.id\n",
    "        LEFT JOIN invest_profile_sectors ips ON ips.invest_profile_id = ip.id \n",
    "        LEFT JOIN sectors s ON s.id = ips.sector_id \n",
    "        LEFT JOIN invest_profile_subsectors ips2 ON ips2.invest_profile_sector_id = ips.id \n",
    "        LEFT JOIN subsectors s2 ON s2.id = ips2.subsector_id \n",
    "        WHERE c.company_category_id = 1;\n",
    "\"\"\""
   ]
  },
  {
   "cell_type": "code",
   "execution_count": null,
   "id": "4995a013",
   "metadata": {
    "hidden": true
   },
   "outputs": [],
   "source": [
    "query_invest_profile_transaction = \"\"\"\n",
    "        SELECT * \n",
    "        FROM companies c \n",
    "        LEFT JOIN invest_profiles ip ON ip.company_id = c.id\n",
    "        LEFT JOIN invest_profile_tx_types iptt ON iptt.invest_profile_id = ip.id \n",
    "        LEFT JOIN tx_types tt ON tt.id = iptt.tx_type_id \n",
    "        LEFT JOIN invest_profile_stake_types ipst ON ipst.invest_profile_id = ip.id \n",
    "        LEFT JOIN stake_types st ON st.id = ipst.stake_type_id \n",
    "        WHERE c.company_category_id = 1;\n",
    "\"\"\""
   ]
  },
  {
   "cell_type": "markdown",
   "id": "c9d1b53f",
   "metadata": {
    "heading_collapsed": true
   },
   "source": [
    "## RAW Dataframes"
   ]
  },
  {
   "cell_type": "code",
   "execution_count": null,
   "id": "b6fa31da",
   "metadata": {
    "hidden": true
   },
   "outputs": [],
   "source": [
    "investor_locations = pd.read_sql(query_investor_locations, dbConnection);\n",
    "investor_locations.head()"
   ]
  },
  {
   "cell_type": "code",
   "execution_count": null,
   "id": "6e56615f",
   "metadata": {
    "hidden": true
   },
   "outputs": [],
   "source": [
    "investor_locations.to_excel('investor_locations.xlsx', encoding=\"UTF-8\")"
   ]
  },
  {
   "cell_type": "code",
   "execution_count": null,
   "id": "85c513a0",
   "metadata": {
    "hidden": true
   },
   "outputs": [],
   "source": [
    "investor_deals = pd.read_sql(query_investor_deals, dbConnection);\n",
    "investor_deals.head()"
   ]
  },
  {
   "cell_type": "code",
   "execution_count": null,
   "id": "af213347",
   "metadata": {
    "hidden": true
   },
   "outputs": [],
   "source": [
    "investor_deals.to_excel('investor_deals.xlsx', encoding=\"UTF-8\")"
   ]
  },
  {
   "cell_type": "code",
   "execution_count": null,
   "id": "6bb0c38f",
   "metadata": {
    "hidden": true
   },
   "outputs": [],
   "source": [
    "invest_profile_keywords = pd.read_sql(query_invest_profile_keywords, dbConnection);\n",
    "invest_profile_keywords.head()"
   ]
  },
  {
   "cell_type": "code",
   "execution_count": null,
   "id": "f004be52",
   "metadata": {
    "hidden": true
   },
   "outputs": [],
   "source": [
    "invest_profile_keywords.to_excel('invest_profile_keywords.xlsx', encoding=\"UTF-8\")"
   ]
  },
  {
   "cell_type": "code",
   "execution_count": null,
   "id": "ec7e29a4",
   "metadata": {
    "hidden": true
   },
   "outputs": [],
   "source": [
    "invest_profile_sectors_subsectors = pd.read_sql(query_invest_profile_sectors_subsectors, dbConnection);\n",
    "invest_profile_sectors_subsectors.head()"
   ]
  },
  {
   "cell_type": "code",
   "execution_count": null,
   "id": "f76fffa5",
   "metadata": {
    "hidden": true
   },
   "outputs": [],
   "source": [
    "invest_profile_sectors_subsectors.to_excel('invest_profile_sectors_subsectors.xlsx', encoding=\"UTF-8\")"
   ]
  },
  {
   "cell_type": "code",
   "execution_count": null,
   "id": "5ad1aada",
   "metadata": {
    "hidden": true
   },
   "outputs": [],
   "source": [
    "invest_profile_transaction = pd.read_sql(query_invest_profile_transaction, dbConnection);\n",
    "invest_profile_transaction.head()"
   ]
  },
  {
   "cell_type": "code",
   "execution_count": null,
   "id": "857ceae1",
   "metadata": {
    "hidden": true
   },
   "outputs": [],
   "source": [
    "invest_profile_transaction.to_excel('invest_profile_transaction.xlsx', encoding=\"UTF-8\")"
   ]
  },
  {
   "cell_type": "markdown",
   "id": "ffe2c9d5",
   "metadata": {
    "heading_collapsed": true,
    "hidden": true
   },
   "source": [
    "### Dataframe Shapes"
   ]
  },
  {
   "cell_type": "code",
   "execution_count": null,
   "id": "ae83c99d",
   "metadata": {
    "hidden": true
   },
   "outputs": [],
   "source": [
    "print(f\"Invest-profile preferred locations df: {investor_locations.shape}\")"
   ]
  },
  {
   "cell_type": "code",
   "execution_count": null,
   "id": "5e45061b",
   "metadata": {
    "hidden": true
   },
   "outputs": [],
   "source": [
    "print(f\"Investor Deals df: {investor_deals.shape}\")"
   ]
  },
  {
   "cell_type": "code",
   "execution_count": null,
   "id": "ac04b1e3",
   "metadata": {
    "hidden": true
   },
   "outputs": [],
   "source": [
    "print(f\"Invest-profile preferred keywords df: {invest_profile_keywords.shape}\")"
   ]
  },
  {
   "cell_type": "code",
   "execution_count": null,
   "id": "e45ea08d",
   "metadata": {
    "hidden": true
   },
   "outputs": [],
   "source": [
    "print(f\"Invest-profile preferred sectors / subsectors df: {invest_profile_sectors_subsectors.shape}\")"
   ]
  },
  {
   "cell_type": "code",
   "execution_count": null,
   "id": "df0a05bc",
   "metadata": {
    "hidden": true
   },
   "outputs": [],
   "source": [
    "print(f\"Invest-profile preferred transaction & stake types df: {invest_profile_transaction.shape}\")"
   ]
  },
  {
   "cell_type": "markdown",
   "id": "b973dc79",
   "metadata": {
    "heading_collapsed": true
   },
   "source": [
    "## Investor Sector cleaning"
   ]
  },
  {
   "cell_type": "code",
   "execution_count": null,
   "id": "c017b4ee",
   "metadata": {
    "hidden": true
   },
   "outputs": [],
   "source": [
    "invest_profile_sectors_subsectors = pd.read_excel('invest_profile_sectors_subsectors.xlsx')"
   ]
  },
  {
   "cell_type": "code",
   "execution_count": null,
   "id": "b8995b8f",
   "metadata": {
    "hidden": true
   },
   "outputs": [],
   "source": [
    "invest_profile_sectors_subsectors.head()"
   ]
  },
  {
   "cell_type": "code",
   "execution_count": null,
   "id": "7859aa07",
   "metadata": {
    "hidden": true,
    "scrolled": false
   },
   "outputs": [],
   "source": [
    "invest_profile_sectors_subsectors.dropna(axis=1, how=\"all\", inplace=True)"
   ]
  },
  {
   "cell_type": "code",
   "execution_count": null,
   "id": "e5b59882",
   "metadata": {
    "hidden": true
   },
   "outputs": [],
   "source": [
    "sectors_encoding = invest_profile_sectors_subsectors.copy()"
   ]
  },
  {
   "cell_type": "code",
   "execution_count": null,
   "id": "67201e38",
   "metadata": {
    "hidden": true
   },
   "outputs": [],
   "source": [
    "sectors_encoding.drop(columns='Unnamed: 0', inplace=True)"
   ]
  },
  {
   "cell_type": "code",
   "execution_count": null,
   "id": "de98eb0d",
   "metadata": {
    "hidden": true
   },
   "outputs": [],
   "source": [
    "sectors_encoding.columns"
   ]
  },
  {
   "cell_type": "code",
   "execution_count": null,
   "id": "b179e72f",
   "metadata": {
    "hidden": true
   },
   "outputs": [],
   "source": [
    "sectors_encoding = sectors_encoding[['investor_id', 'name', 'sector_id', 'is_excluded', 'name_en']]"
   ]
  },
  {
   "cell_type": "code",
   "execution_count": null,
   "id": "fa3ffe51",
   "metadata": {
    "hidden": true
   },
   "outputs": [],
   "source": [
    "sectors_encoding.head()"
   ]
  },
  {
   "cell_type": "code",
   "execution_count": null,
   "id": "858615c8",
   "metadata": {
    "hidden": true
   },
   "outputs": [],
   "source": [
    "sectors_encoding.is_excluded.value_counts()"
   ]
  },
  {
   "cell_type": "code",
   "execution_count": null,
   "id": "cdc0b149",
   "metadata": {
    "hidden": true
   },
   "outputs": [],
   "source": [
    "sectors_encoding_no_exclude = sectors_encoding[sectors_encoding['is_excluded'] == 0.0]"
   ]
  },
  {
   "cell_type": "code",
   "execution_count": null,
   "id": "d9803608",
   "metadata": {
    "hidden": true
   },
   "outputs": [],
   "source": [
    "sectors_encoding_no_exclude.is_excluded.value_counts()"
   ]
  },
  {
   "cell_type": "code",
   "execution_count": null,
   "id": "f847fb68",
   "metadata": {
    "hidden": true
   },
   "outputs": [],
   "source": [
    "sectors_encoding_no_exclude"
   ]
  },
  {
   "cell_type": "code",
   "execution_count": null,
   "id": "46a50056",
   "metadata": {
    "hidden": true
   },
   "outputs": [],
   "source": [
    "sectors_encoding_no_exclude_clean = sectors_encoding_no_exclude[['investor_id', 'name', 'name_en']]"
   ]
  },
  {
   "cell_type": "code",
   "execution_count": null,
   "id": "88ad35f3",
   "metadata": {
    "hidden": true
   },
   "outputs": [],
   "source": [
    "from sklearn.preprocessing import OneHotEncoder\n",
    "\n",
    "one_hot_encoder = OneHotEncoder(sparse = False).fit(sectors_encoding_no_exclude_clean[['name_en']])\n",
    "\n",
    "new_columns = list(one_hot_encoder.categories_[0])\n",
    "\n",
    "sectors_encoding_no_exclude_clean[new_columns] = one_hot_encoder.transform(sectors_encoding_no_exclude_clean[['name_en']])\n",
    "\n",
    "sectors_encoding_no_exclude_clean.head()\n"
   ]
  },
  {
   "cell_type": "code",
   "execution_count": null,
   "id": "e79a42c8",
   "metadata": {
    "hidden": true
   },
   "outputs": [],
   "source": [
    "sectors_encoding_no_exclude_clean.drop(columns=['name_en'], inplace=True)"
   ]
  },
  {
   "cell_type": "code",
   "execution_count": null,
   "id": "32582e0a",
   "metadata": {
    "hidden": true
   },
   "outputs": [],
   "source": [
    "sectors_encoding_no_exclude_clean = sectors_encoding_no_exclude_clean.groupby('investor_id').max().reset_index()"
   ]
  },
  {
   "cell_type": "code",
   "execution_count": null,
   "id": "e00c16a2",
   "metadata": {
    "hidden": true
   },
   "outputs": [],
   "source": [
    "sectors_encoding_no_exclude_clean.name.nunique()"
   ]
  },
  {
   "cell_type": "code",
   "execution_count": null,
   "id": "21eff185",
   "metadata": {
    "hidden": true
   },
   "outputs": [],
   "source": [
    "sectors_encoding_no_exclude_clean.name = sectors_encoding_no_exclude_clean.name.apply(lambda x: x.strip())"
   ]
  },
  {
   "cell_type": "code",
   "execution_count": null,
   "id": "094cab68",
   "metadata": {
    "hidden": true
   },
   "outputs": [],
   "source": [
    "sectors_encoding_no_exclude_clean.drop_duplicates('name', keep=\"last\", inplace=True)"
   ]
  },
  {
   "cell_type": "code",
   "execution_count": null,
   "id": "03788f44",
   "metadata": {
    "hidden": true
   },
   "outputs": [],
   "source": [
    "sectors_encoding_no_exclude_clean.head()"
   ]
  },
  {
   "cell_type": "code",
   "execution_count": null,
   "id": "92350df6",
   "metadata": {
    "hidden": true
   },
   "outputs": [],
   "source": [
    "sectors_encoding_no_exclude_clean.shape"
   ]
  },
  {
   "cell_type": "code",
   "execution_count": null,
   "id": "9e335518",
   "metadata": {
    "hidden": true
   },
   "outputs": [],
   "source": [
    "cols_to_sum = ['Agriculture', 'Automotive',\n",
    "       'Biotechnology & Life Sciences', 'Chemicals',\n",
    "       'Computer Hardware & Equipment', 'Construction',\n",
    "       'Consumer Goods & Apparel', 'Defense', 'Electronics', 'Energy',\n",
    "       'Financial Services', 'Food & Beverages', 'Food & Staples Retailing',\n",
    "       'Government', 'Health Care Equipment & Services', 'IT services',\n",
    "       'Industrial automation', 'Industrial products and services',\n",
    "       'Insurance', 'Internet/ecommerce', 'Leisure & consumer services',\n",
    "       'Manufacturing (other)', 'Media', 'Mining', 'Pharmaceuticals',\n",
    "       'Professional Services (B2B)', 'Real Estate', 'Retailing',\n",
    "       'Semiconductors & Semiconductor Equipment', 'Software & Services',\n",
    "       'Telecommunication Hardware', 'Telecommunication Services',\n",
    "       'Transportation', 'Utilities']"
   ]
  },
  {
   "cell_type": "code",
   "execution_count": null,
   "id": "b3a19bb2",
   "metadata": {
    "hidden": true
   },
   "outputs": [],
   "source": [
    "sectors_encoding_no_exclude_clean['sector_count'] = sectors_encoding_no_exclude_clean[cols_to_sum].sum(axis=1)"
   ]
  },
  {
   "cell_type": "code",
   "execution_count": null,
   "id": "7441f28b",
   "metadata": {
    "hidden": true
   },
   "outputs": [],
   "source": [
    "sectors_encoding_no_exclude_clean.sector_count.mean()"
   ]
  },
  {
   "cell_type": "markdown",
   "id": "8dc0b567",
   "metadata": {
    "hidden": true
   },
   "source": [
    "#### final cleaned df to merge = sectors_encoding_no_exclude_clean"
   ]
  },
  {
   "cell_type": "markdown",
   "id": "794e46aa",
   "metadata": {},
   "source": [
    "## Transaction & Stake Types cleaning"
   ]
  },
  {
   "cell_type": "code",
   "execution_count": null,
   "id": "45eeb6e8",
   "metadata": {},
   "outputs": [],
   "source": [
    "invest_profile_transaction = pd.read_excel('invest_profile_transaction.xlsx')"
   ]
  },
  {
   "cell_type": "code",
   "execution_count": null,
   "id": "609c1562",
   "metadata": {},
   "outputs": [],
   "source": [
    "invest_profile_transaction.head()"
   ]
  },
  {
   "cell_type": "code",
   "execution_count": null,
   "id": "259837e3",
   "metadata": {},
   "outputs": [],
   "source": [
    "invest_profile_transaction.dropna(axis=1, how=\"all\", inplace=True)"
   ]
  },
  {
   "cell_type": "code",
   "execution_count": null,
   "id": "8505ddd6",
   "metadata": {},
   "outputs": [],
   "source": [
    "invest_profile_transaction.columns"
   ]
  },
  {
   "cell_type": "code",
   "execution_count": null,
   "id": "acfb899d",
   "metadata": {},
   "outputs": [],
   "source": [
    "invest_profile_transaction_to_clean = invest_profile_transaction[['investor_id', 'name', 'fees_rate',\n",
    "       'fees_cap', 'fees_floor', 'fees_fa', 'fees_info', 'inroad',\n",
    "       'exit_oriented', 'management_takeover', 'seriousness', 'agnostic',\n",
    "       'margin', 'tx_type_id', 'is_excluded', 'name.2', 'stake_type_id', 'stake_id', 'name.3']]"
   ]
  },
  {
   "cell_type": "code",
   "execution_count": null,
   "id": "7bcc1daf",
   "metadata": {},
   "outputs": [],
   "source": [
    "invest_profile_transaction_to_clean.head()"
   ]
  },
  {
   "cell_type": "code",
   "execution_count": null,
   "id": "a403482e",
   "metadata": {},
   "outputs": [],
   "source": [
    "invest_profile_transaction_to_clean.fees_rate.replace(2,0.02, inplace=True)"
   ]
  },
  {
   "cell_type": "code",
   "execution_count": null,
   "id": "f3d1267e",
   "metadata": {},
   "outputs": [],
   "source": [
    "invest_profile_transaction_to_clean.fees_rate.replace(1,0.01, inplace=True)"
   ]
  },
  {
   "cell_type": "code",
   "execution_count": null,
   "id": "192e9e25",
   "metadata": {},
   "outputs": [],
   "source": [
    "invest_profile_transaction_to_clean.fees_rate.replace(3,0.03, inplace=True)"
   ]
  },
  {
   "cell_type": "code",
   "execution_count": null,
   "id": "83423260",
   "metadata": {},
   "outputs": [],
   "source": [
    "invest_profile_transaction_to_clean.fees_rate.replace(3,0.03, inplace=True)"
   ]
  },
  {
   "cell_type": "code",
   "execution_count": null,
   "id": "fd080aae",
   "metadata": {},
   "outputs": [],
   "source": [
    "invest_profile_transaction_to_clean.fees_rate.replace(np.nan, 0, inplace=True)"
   ]
  },
  {
   "cell_type": "code",
   "execution_count": null,
   "id": "9e723123",
   "metadata": {},
   "outputs": [],
   "source": [
    "invest_profile_transaction_to_clean.fees_rate.value_counts()"
   ]
  },
  {
   "cell_type": "code",
   "execution_count": null,
   "id": "2dead668",
   "metadata": {},
   "outputs": [],
   "source": [
    "from sklearn.preprocessing import OneHotEncoder\n",
    "\n",
    "one_hot_encoder = OneHotEncoder(sparse = False).fit(invest_profile_transaction_to_clean[['fees_rate']])\n",
    "\n",
    "new_columns = list(one_hot_encoder.categories_[0])\n",
    "\n",
    "invest_profile_transaction_to_clean[new_columns] = one_hot_encoder.transform(invest_profile_transaction_to_clean[['fees_rate']])\n",
    "\n",
    "invest_profile_transaction_to_clean.head()\n"
   ]
  },
  {
   "cell_type": "code",
   "execution_count": null,
   "id": "088ee561",
   "metadata": {},
   "outputs": [],
   "source": [
    "invest_profile_transaction_to_clean.drop(columns=['fees_rate', 'fees_cap', 'fees_floor', 'fees_fa', 'fees_info'], inplace=True)"
   ]
  },
  {
   "cell_type": "code",
   "execution_count": null,
   "id": "269ca698",
   "metadata": {},
   "outputs": [],
   "source": [
    "invest_profile_transaction_to_clean.head()"
   ]
  },
  {
   "cell_type": "code",
   "execution_count": null,
   "id": "7c1b1e87",
   "metadata": {},
   "outputs": [],
   "source": [
    "invest_profile_transaction_to_clean.margin.replace(np.nan, \"keine_marge\", inplace=True)"
   ]
  },
  {
   "cell_type": "code",
   "execution_count": null,
   "id": "64a1a8e0",
   "metadata": {},
   "outputs": [],
   "source": [
    "invest_profile_transaction_to_clean.margin.replace(0, 'keine_marge', inplace=True)\n",
    "invest_profile_transaction_to_clean.margin.replace(1, 'undermanaged', inplace=True)\n",
    "invest_profile_transaction_to_clean.margin.replace(2, 'mind_5', inplace=True)\n",
    "invest_profile_transaction_to_clean.margin.replace(3, 'mind_10', inplace=True)\n",
    "invest_profile_transaction_to_clean.margin.replace(4, 'mind_15', inplace=True)\n",
    "invest_profile_transaction_to_clean.margin.replace(5, 'mind_20', inplace=True)"
   ]
  },
  {
   "cell_type": "code",
   "execution_count": null,
   "id": "325fd659",
   "metadata": {},
   "outputs": [],
   "source": [
    "one_hot_encoder = OneHotEncoder(sparse = False).fit(invest_profile_transaction_to_clean[['margin']])\n",
    "\n",
    "new_columns = list(one_hot_encoder.categories_[0])\n",
    "\n",
    "invest_profile_transaction_to_clean[new_columns] = one_hot_encoder.transform(invest_profile_transaction_to_clean[['margin']])\n",
    "\n",
    "invest_profile_transaction_to_clean.head()"
   ]
  },
  {
   "cell_type": "code",
   "execution_count": null,
   "id": "150739e9",
   "metadata": {},
   "outputs": [],
   "source": [
    "invest_profile_transaction_to_clean.is_excluded.value_counts()"
   ]
  },
  {
   "cell_type": "code",
   "execution_count": null,
   "id": "9959e446",
   "metadata": {},
   "outputs": [],
   "source": [
    "invest_profile_transaction_no_exclude = invest_profile_transaction_to_clean[invest_profile_transaction_to_clean.is_excluded == 0]"
   ]
  },
  {
   "cell_type": "code",
   "execution_count": null,
   "id": "48e66eec",
   "metadata": {},
   "outputs": [],
   "source": [
    "invest_profile_transaction_no_exclude.is_excluded.value_counts()"
   ]
  },
  {
   "cell_type": "code",
   "execution_count": null,
   "id": "8b21cb37",
   "metadata": {},
   "outputs": [],
   "source": [
    "invest_profile_transaction_no_exclude.drop(columns=['is_excluded'], inplace=True)"
   ]
  },
  {
   "cell_type": "code",
   "execution_count": null,
   "id": "95982716",
   "metadata": {},
   "outputs": [],
   "source": [
    "invest_profile_transaction_no_exclude.drop(columns=['seriousness'], inplace=True)"
   ]
  },
  {
   "cell_type": "code",
   "execution_count": null,
   "id": "b92fd8c5",
   "metadata": {},
   "outputs": [],
   "source": [
    "invest_profile_transaction_no_exclude.drop(columns=['margin'], inplace=True)"
   ]
  },
  {
   "cell_type": "code",
   "execution_count": null,
   "id": "b2ffd52f",
   "metadata": {},
   "outputs": [],
   "source": [
    "invest_profile_transaction_no_exclude.head()"
   ]
  },
  {
   "cell_type": "code",
   "execution_count": null,
   "id": "e6fc0869",
   "metadata": {},
   "outputs": [],
   "source": [
    "invest_profile_transaction_no_exclude['name.2'] = invest_profile_transaction_no_exclude['name.2'].replace(np.nan, \"no_info\")"
   ]
  },
  {
   "cell_type": "code",
   "execution_count": null,
   "id": "f5c0bf08",
   "metadata": {},
   "outputs": [],
   "source": [
    "invest_profile_transaction_no_exclude['name.2'].isna().sum()"
   ]
  },
  {
   "cell_type": "code",
   "execution_count": null,
   "id": "7cadb86e",
   "metadata": {},
   "outputs": [],
   "source": [
    "one_hot_encoder = OneHotEncoder(sparse = False).fit(invest_profile_transaction_no_exclude[['name.2']])\n",
    "\n",
    "new_columns = list(one_hot_encoder.categories_[0])\n",
    "\n",
    "invest_profile_transaction_no_exclude[new_columns] = one_hot_encoder.transform(invest_profile_transaction_no_exclude[['name.2']])\n",
    "\n",
    "invest_profile_transaction_no_exclude.head()"
   ]
  },
  {
   "cell_type": "code",
   "execution_count": null,
   "id": "b066e09d",
   "metadata": {},
   "outputs": [],
   "source": [
    "invest_profile_transaction_no_exclude.drop(columns=['name.2'], inplace=True)"
   ]
  },
  {
   "cell_type": "code",
   "execution_count": null,
   "id": "3cbbbd78",
   "metadata": {},
   "outputs": [],
   "source": [
    "invest_profile_transaction_no_exclude['name.3'] = invest_profile_transaction_no_exclude['name.3'].replace(np.nan, 'no_stake_info')"
   ]
  },
  {
   "cell_type": "code",
   "execution_count": null,
   "id": "19ca79be",
   "metadata": {},
   "outputs": [],
   "source": [
    "one_hot_encoder = OneHotEncoder(sparse = False).fit(invest_profile_transaction_no_exclude[['name.3']])\n",
    "\n",
    "new_columns = list(one_hot_encoder.categories_[0])\n",
    "\n",
    "invest_profile_transaction_no_exclude[new_columns] = one_hot_encoder.transform(invest_profile_transaction_no_exclude[['name.3']])\n",
    "\n",
    "invest_profile_transaction_no_exclude.head()"
   ]
  },
  {
   "cell_type": "code",
   "execution_count": null,
   "id": "1ba02673",
   "metadata": {},
   "outputs": [],
   "source": [
    "invest_profile_transaction_no_exclude.drop(columns=['name.3', 'tx_type_id', 'stake_type_id', 'stake_id', 'name.3'], inplace=True)"
   ]
  },
  {
   "cell_type": "markdown",
   "id": "8f2f51f2",
   "metadata": {},
   "source": [
    "### FOR GAUTIER: Please check INROAD feature since this needs to be adjusted and changed according to the number of matches"
   ]
  },
  {
   "cell_type": "code",
   "execution_count": null,
   "id": "94011948",
   "metadata": {},
   "outputs": [],
   "source": [
    "invest_profile_transaction_no_exclude.head()"
   ]
  },
  {
   "cell_type": "code",
   "execution_count": null,
   "id": "90f6b75b",
   "metadata": {},
   "outputs": [],
   "source": [
    "invest_profile_transaction_no_exclude.drop(columns=['inroad'], inplace=True)"
   ]
  },
  {
   "cell_type": "code",
   "execution_count": null,
   "id": "a5811e96",
   "metadata": {},
   "outputs": [],
   "source": [
    "invest_profile_transaction_no_exclude.rename(columns={0.0: 'no_fee', 0.01: 'pays_1', 0.02: 'pays_2', 0.03: 'pays_3', 0.1:'fee_sharing_0.1', 0.25:'fee_sharing'}, inplace=True)\n"
   ]
  },
  {
   "cell_type": "code",
   "execution_count": null,
   "id": "a600893f",
   "metadata": {},
   "outputs": [],
   "source": [
    "invest_profile_transaction_no_exclude.rename(columns={'fee_sharing_0.1': 'fee_sharing_10', 'fee_sharing':'fee_sharing_25'}, inplace=True)\n"
   ]
  },
  {
   "cell_type": "code",
   "execution_count": null,
   "id": "b7f69423",
   "metadata": {},
   "outputs": [],
   "source": [
    "invest_profile_transaction_no_exclude.head()"
   ]
  },
  {
   "cell_type": "code",
   "execution_count": null,
   "id": "404536b6",
   "metadata": {},
   "outputs": [],
   "source": [
    "invest_profile_transaction_no_exclude_test =  invest_profile_transaction_no_exclude.copy()"
   ]
  },
  {
   "cell_type": "code",
   "execution_count": null,
   "id": "55d7ff78",
   "metadata": {},
   "outputs": [],
   "source": [
    "invest_profile_transaction_no_exclude_final = invest_profile_transaction_no_exclude.copy()"
   ]
  },
  {
   "cell_type": "code",
   "execution_count": null,
   "id": "24444230",
   "metadata": {},
   "outputs": [],
   "source": [
    "invest_profile_transaction_no_exclude_final = invest_profile_transaction_no_exclude_final.groupby('investor_id').sum()"
   ]
  },
  {
   "cell_type": "code",
   "execution_count": null,
   "id": "3b67db45",
   "metadata": {},
   "outputs": [],
   "source": [
    "invest_profile_transaction_no_exclude_final[invest_profile_transaction_no_exclude_final > 1] = 1"
   ]
  },
  {
   "cell_type": "code",
   "execution_count": null,
   "id": "52222620",
   "metadata": {},
   "outputs": [],
   "source": [
    "invest_profile_transaction_no_exclude_final.reset_index(inplace=True)"
   ]
  },
  {
   "cell_type": "code",
   "execution_count": null,
   "id": "b9ace8a2",
   "metadata": {},
   "outputs": [],
   "source": [
    "invest_profile_transaction_no_exclude_final.head()"
   ]
  },
  {
   "cell_type": "code",
   "execution_count": null,
   "id": "51666c07",
   "metadata": {},
   "outputs": [],
   "source": [
    "invest_profile_transaction_no_exclude_final.investor_id.nunique()"
   ]
  },
  {
   "cell_type": "markdown",
   "id": "d296dd44",
   "metadata": {},
   "source": [
    "#### final df to merge = invest_profile_transaction_no_exclude_final"
   ]
  },
  {
   "cell_type": "markdown",
   "id": "53089881",
   "metadata": {},
   "source": [
    "## Investor Financials Cleaning"
   ]
  },
  {
   "cell_type": "code",
   "execution_count": null,
   "id": "99360001",
   "metadata": {},
   "outputs": [],
   "source": [
    "invest_profile_financials = pd.read_excel('invest_profile_transaction.xlsx')\n",
    "invest_profile_financials.head()"
   ]
  },
  {
   "cell_type": "code",
   "execution_count": null,
   "id": "7ce17faf",
   "metadata": {},
   "outputs": [],
   "source": [
    "invest_profile_financials.columns"
   ]
  },
  {
   "cell_type": "code",
   "execution_count": null,
   "id": "8a9abbf1",
   "metadata": {},
   "outputs": [],
   "source": [
    "invest_profile_financials = invest_profile_financials[['investor_id', 'name', 'max_revenue', 'min_revenue',\n",
    "       'max_ebitda', 'min_ebitda', 'max_equity', 'min_equity', 'name.2']]"
   ]
  },
  {
   "cell_type": "code",
   "execution_count": null,
   "id": "baa2777d",
   "metadata": {},
   "outputs": [],
   "source": [
    "invest_profile_financials.head()"
   ]
  },
  {
   "cell_type": "code",
   "execution_count": null,
   "id": "dfb50b05",
   "metadata": {},
   "outputs": [],
   "source": [
    "test = invest_profile_financials.copy()"
   ]
  },
  {
   "cell_type": "code",
   "execution_count": null,
   "id": "70289057",
   "metadata": {},
   "outputs": [],
   "source": [
    "test.head()"
   ]
  },
  {
   "cell_type": "code",
   "execution_count": null,
   "id": "8a7d5b00",
   "metadata": {},
   "outputs": [],
   "source": [
    "res = test.groupby('investor_id',as_index=False)['name.2'].agg(list)"
   ]
  },
  {
   "cell_type": "code",
   "execution_count": null,
   "id": "c5713d21",
   "metadata": {},
   "outputs": [],
   "source": [
    "test = pd.merge(test, res, left_on=\"investor_id\", right_on=\"investor_id\")"
   ]
  },
  {
   "cell_type": "code",
   "execution_count": null,
   "id": "9f04ac60",
   "metadata": {},
   "outputs": [],
   "source": [
    "test.drop(columns=['name.2_x'], inplace=True)"
   ]
  },
  {
   "cell_type": "code",
   "execution_count": null,
   "id": "73a746fd",
   "metadata": {},
   "outputs": [],
   "source": [
    "test"
   ]
  },
  {
   "cell_type": "code",
   "execution_count": null,
   "id": "544998f5",
   "metadata": {},
   "outputs": [],
   "source": [
    "invest_profile_financials.groupby('name')['name.2'].apply(list).reset_index(name='transaction_types')"
   ]
  },
  {
   "cell_type": "code",
   "execution_count": null,
   "id": "1a73e48f",
   "metadata": {},
   "outputs": [],
   "source": [
    "invest_profile_financials.drop_duplicates(inplace=True)"
   ]
  },
  {
   "cell_type": "code",
   "execution_count": null,
   "id": "7e4040a1",
   "metadata": {},
   "outputs": [],
   "source": [
    "invest_profile_financials.shape"
   ]
  },
  {
   "cell_type": "code",
   "execution_count": null,
   "id": "d01c560c",
   "metadata": {},
   "outputs": [],
   "source": [
    "invest_profile_financials.head()"
   ]
  },
  {
   "cell_type": "code",
   "execution_count": null,
   "id": "260eb3c0",
   "metadata": {},
   "outputs": [],
   "source": [
    "invest_profile_financials.to_excel('invest_profile_financials.xlsx', encoding=\"UTF-8\")"
   ]
  },
  {
   "cell_type": "code",
   "execution_count": null,
   "id": "567731fa",
   "metadata": {},
   "outputs": [],
   "source": [
    "invest_profile_financials.columns"
   ]
  },
  {
   "cell_type": "code",
   "execution_count": null,
   "id": "2634c5ce",
   "metadata": {},
   "outputs": [],
   "source": [
    "iter_cols = ['max_revenue', 'min_revenue', 'max_ebitda',\n",
    "       'min_ebitda', 'max_equity', 'min_equity']"
   ]
  },
  {
   "cell_type": "code",
   "execution_count": null,
   "id": "2b42a0da",
   "metadata": {},
   "outputs": [],
   "source": [
    "for col in iter_cols:\n",
    "    g = sns.histplot(invest_profile_financials[col], bins=500)\n",
    "    #g.set(xlim=(0, 100));\n",
    "    plt.show()"
   ]
  },
  {
   "cell_type": "code",
   "execution_count": null,
   "id": "f09efcf8",
   "metadata": {},
   "outputs": [],
   "source": [
    "invest_profile_financials.max_equity.max()"
   ]
  },
  {
   "cell_type": "markdown",
   "id": "53b7510a",
   "metadata": {},
   "source": [
    "#### The Financials will be imputed internally based on specific rules (tbd) and provided by the end of next week (latest: 04.03.2022)"
   ]
  },
  {
   "cell_type": "markdown",
   "id": "d48e2295",
   "metadata": {},
   "source": [
    "## Deal Feature cleaning"
   ]
  },
  {
   "cell_type": "code",
   "execution_count": null,
   "id": "705a5f19",
   "metadata": {},
   "outputs": [],
   "source": [
    "investor_deals = pd.read_excel('investor_deals.xlsx')"
   ]
  },
  {
   "cell_type": "code",
   "execution_count": null,
   "id": "d9299c14",
   "metadata": {},
   "outputs": [],
   "source": [
    "investor_deals.head()"
   ]
  },
  {
   "cell_type": "code",
   "execution_count": null,
   "id": "f8a0f8d5",
   "metadata": {},
   "outputs": [],
   "source": [
    "investor_deals.columns.to_list()"
   ]
  },
  {
   "cell_type": "code",
   "execution_count": null,
   "id": "a51cd914",
   "metadata": {},
   "outputs": [],
   "source": [
    "investor_deals = investor_deals[['investor_id', 'name', \n",
    "                                'deal_id', 'name.1',\n",
    "                                'lost_reason_id', 'comment',\n",
    "                                'target_name', 'target_description', 'target_revenue', \n",
    "                                'target_ebitda', 'target_ebit', 'target_country_id', 'name_en',\n",
    "                                'target_region_id', 'target_zipcode', 'lead_prio', \n",
    "                                'type_id', 'name.2', 'is_lost', 'tx_type_id', 'name.3', 'ror_id', 'ror_name',\n",
    "                                'region_id', 'name_en.1',\n",
    "                                'sector_id.1', 'name_en.2', 'subsector_id', 'name_en.3']]"
   ]
  },
  {
   "cell_type": "code",
   "execution_count": null,
   "id": "cedebd8f",
   "metadata": {},
   "outputs": [],
   "source": [
    "investor_deals.head()"
   ]
  },
  {
   "cell_type": "code",
   "execution_count": null,
   "id": "2b3a27a3",
   "metadata": {},
   "outputs": [],
   "source": [
    "deals_to_clean = investor_deals.copy()"
   ]
  },
  {
   "cell_type": "code",
   "execution_count": null,
   "id": "5002748d",
   "metadata": {},
   "outputs": [],
   "source": [
    "deals_to_clean.rename(columns={'name':'investor', 'name.1':'deal_name', 'name_en':'target_country_name',\n",
    "                               'name.2':'deal_phase', 'name.3':'deal_type', 'name_en.1':'target_region_name',\n",
    "                               'name_en.2':'sector', 'name_en.3':'subsector'}, inplace=True)"
   ]
  },
  {
   "cell_type": "code",
   "execution_count": null,
   "id": "0b53ecf9",
   "metadata": {},
   "outputs": [],
   "source": [
    "deals_to_clean.type_id.value_counts()"
   ]
  },
  {
   "cell_type": "code",
   "execution_count": null,
   "id": "a0f24439",
   "metadata": {},
   "outputs": [],
   "source": [
    "deals_to_clean['result'] = deals_to_clean['type_id'].apply(lambda x: 0 if x < 3 else 1)"
   ]
  },
  {
   "cell_type": "code",
   "execution_count": null,
   "id": "8b347c62",
   "metadata": {},
   "outputs": [],
   "source": [
    "deals_to_clean['result'].value_counts().plot(kind=\"bar\");"
   ]
  },
  {
   "cell_type": "code",
   "execution_count": null,
   "id": "d30a7c8b",
   "metadata": {},
   "outputs": [],
   "source": [
    "deals_to_clean.drop(columns='lost_reason_id', inplace=True)"
   ]
  },
  {
   "cell_type": "code",
   "execution_count": null,
   "id": "2b7bfcab",
   "metadata": {},
   "outputs": [],
   "source": [
    "deals_to_clean.columns"
   ]
  },
  {
   "cell_type": "code",
   "execution_count": null,
   "id": "6aecd5e6",
   "metadata": {},
   "outputs": [],
   "source": [
    "deals_to_clean = deals_to_clean[['result', 'investor_id', 'investor', 'deal_id', 'deal_name',\n",
    "                                 'type_id', 'deal_phase', 'is_lost', 'tx_type_id', 'deal_type', 'ror_id',\n",
    "                                 'ror_name',  'comment',\n",
    "                                 'target_name', 'target_description', 'target_revenue', 'target_ebitda',\n",
    "                                 'target_ebit', 'target_country_id', 'target_country_name',\n",
    "                                 'target_zipcode', 'region_id', 'target_region_name', 'sector_id.1', 'sector',\n",
    "                                 'subsector_id', 'subsector']]"
   ]
  },
  {
   "cell_type": "code",
   "execution_count": null,
   "id": "cf06697d",
   "metadata": {},
   "outputs": [],
   "source": [
    "deals_to_clean.sample()"
   ]
  },
  {
   "cell_type": "markdown",
   "id": "91511462",
   "metadata": {},
   "source": [
    "#### Cleaning Tasks:\n",
    "\n",
    "columns to One Hot Encode:\n",
    "* deal_type\n",
    "* ror_name\n",
    "* target_country_name\n",
    "* target_region_name\n",
    "* sector\n",
    "\n",
    "columns to scale:\n",
    "* target_revenue\n",
    "* target_ebitda\n",
    "* target_ebit\n",
    "\n",
    "columns to drop:\n",
    "* type_id\n",
    "* deal_phase\n",
    "* tx_type_id\n",
    "* ror_id\n",
    "* target_name\n",
    "* target_country_id\n",
    "* region_id\n",
    "* sector_id.1\n",
    "* subsector_id\n",
    "\n",
    "columns to drop and further investigate:\n",
    "* comment\n",
    "* target_description\n",
    "* target_zipcode (<< future feature: distance target - investor)\n",
    "* subsector\n"
   ]
  },
  {
   "cell_type": "markdown",
   "id": "ec76b013",
   "metadata": {},
   "source": [
    "#### One Hot Encoding"
   ]
  },
  {
   "cell_type": "code",
   "execution_count": null,
   "id": "6a452ec9",
   "metadata": {},
   "outputs": [],
   "source": [
    "deals_to_clean.shape"
   ]
  },
  {
   "cell_type": "code",
   "execution_count": null,
   "id": "8aae6b16",
   "metadata": {},
   "outputs": [],
   "source": [
    "deals_to_clean[deals_to_clean.deal_type.isna()]['deal_name'].value_counts()"
   ]
  },
  {
   "cell_type": "code",
   "execution_count": null,
   "id": "f94792f0",
   "metadata": {},
   "outputs": [],
   "source": [
    "deals_to_clean = deals_to_clean[deals_to_clean['deal_type'].notna()]"
   ]
  },
  {
   "cell_type": "code",
   "execution_count": null,
   "id": "0c4bee65",
   "metadata": {},
   "outputs": [],
   "source": [
    "deals_to_clean['deal_type'].isna().sum()"
   ]
  },
  {
   "cell_type": "code",
   "execution_count": null,
   "id": "a69bac5f",
   "metadata": {},
   "outputs": [],
   "source": [
    "# one hot encode deal types\n",
    "\n",
    "one_hot_encoder = OneHotEncoder(sparse = False).fit(deals_to_clean[['deal_type']])\n",
    "\n",
    "new_columns = list(one_hot_encoder.categories_[0])\n",
    "\n",
    "deals_to_clean[new_columns] = one_hot_encoder.transform(deals_to_clean[['deal_type']])\n",
    "\n",
    "deals_to_clean.head()"
   ]
  },
  {
   "cell_type": "code",
   "execution_count": null,
   "id": "ba99a1fa",
   "metadata": {},
   "outputs": [],
   "source": [
    "deals_to_clean.shape"
   ]
  },
  {
   "cell_type": "code",
   "execution_count": null,
   "id": "9514005b",
   "metadata": {},
   "outputs": [],
   "source": [
    "deals_to_clean.ror_name.isna().sum()"
   ]
  },
  {
   "cell_type": "code",
   "execution_count": null,
   "id": "fe90b922",
   "metadata": {},
   "outputs": [],
   "source": [
    "deals_to_clean.ror_name.replace(np.nan, 'NO_RESPONSE', inplace=True)"
   ]
  },
  {
   "cell_type": "code",
   "execution_count": null,
   "id": "962b90dc",
   "metadata": {},
   "outputs": [],
   "source": [
    "# one hot encode ror_name\n",
    "\n",
    "one_hot_encoder = OneHotEncoder(sparse = False).fit(deals_to_clean[['ror_name']])\n",
    "\n",
    "new_columns = list(one_hot_encoder.categories_[0])\n",
    "\n",
    "deals_to_clean[new_columns] = one_hot_encoder.transform(deals_to_clean[['ror_name']])\n",
    "\n",
    "deals_to_clean.head()"
   ]
  },
  {
   "cell_type": "code",
   "execution_count": null,
   "id": "7b638fcd",
   "metadata": {},
   "outputs": [],
   "source": [
    "deals_to_clean.sector.isna().sum()"
   ]
  },
  {
   "cell_type": "code",
   "execution_count": null,
   "id": "477c9a75",
   "metadata": {},
   "outputs": [],
   "source": [
    "# one hot encode sector\n",
    "\n",
    "one_hot_encoder = OneHotEncoder(sparse = False).fit(deals_to_clean[['sector']])\n",
    "\n",
    "new_columns = list(one_hot_encoder.categories_[0])\n",
    "\n",
    "deals_to_clean[new_columns] = one_hot_encoder.transform(deals_to_clean[['sector']])\n",
    "\n",
    "deals_to_clean.head()"
   ]
  },
  {
   "cell_type": "markdown",
   "id": "50a29170",
   "metadata": {},
   "source": [
    "consider: sectors_encoding_no_exclude_clean = sectors_encoding_no_exclude_clean.groupby('investor_id').max().reset_index()"
   ]
  },
  {
   "cell_type": "code",
   "execution_count": null,
   "id": "2dbbe5f7",
   "metadata": {},
   "outputs": [],
   "source": [
    "deals_to_clean.target_region_name.value_counts()"
   ]
  },
  {
   "cell_type": "code",
   "execution_count": null,
   "id": "534390f2",
   "metadata": {},
   "outputs": [],
   "source": [
    "deals_to_clean.target_region_name.isna().sum()"
   ]
  },
  {
   "cell_type": "markdown",
   "id": "da868314",
   "metadata": {},
   "source": [
    "##### Question:\n",
    "- What to do when no target_region is available? Is it meaningful to impute as \"no_region_available\"? "
   ]
  },
  {
   "cell_type": "markdown",
   "id": "e7c52d77",
   "metadata": {},
   "source": [
    "#### Columns to drop"
   ]
  },
  {
   "cell_type": "code",
   "execution_count": null,
   "id": "040e63ab",
   "metadata": {},
   "outputs": [],
   "source": [
    "deals_to_clean_1 = deals_to_clean.copy()"
   ]
  },
  {
   "cell_type": "code",
   "execution_count": null,
   "id": "d57699a3",
   "metadata": {},
   "outputs": [],
   "source": [
    "cols_to_drop = ['type_id', 'deal_phase', 'tx_type_id', 'ror_id', 'target_name',\n",
    "                'target_country_id', 'region_id', 'sector_id.1', 'subsector_id']"
   ]
  },
  {
   "cell_type": "code",
   "execution_count": null,
   "id": "0df677f1",
   "metadata": {},
   "outputs": [],
   "source": [
    "deals_to_clean_1.drop(columns=cols_to_drop, inplace=True)\n",
    "deals_to_clean_1.columns"
   ]
  },
  {
   "cell_type": "code",
   "execution_count": null,
   "id": "33a1d107",
   "metadata": {},
   "outputs": [],
   "source": [
    "deals_to_clean_1.sample()"
   ]
  },
  {
   "cell_type": "code",
   "execution_count": null,
   "id": "39c3964a",
   "metadata": {},
   "outputs": [],
   "source": [
    "deals_final = deals_to_clean_1.copy()"
   ]
  },
  {
   "cell_type": "code",
   "execution_count": null,
   "id": "7bc535a6",
   "metadata": {},
   "outputs": [],
   "source": [
    "deals_final.drop(columns=['investor', 'deal_name', 'deal_type', 'ror_name', 'comment',\n",
    "                          'target_description', 'target_country_name', 'target_zipcode',\n",
    "                          'target_region_name', 'sector', 'subsector'], inplace=True)"
   ]
  },
  {
   "cell_type": "code",
   "execution_count": null,
   "id": "3b1c2e19",
   "metadata": {},
   "outputs": [],
   "source": [
    "deals_final.sample()"
   ]
  },
  {
   "cell_type": "code",
   "execution_count": null,
   "id": "b2ea427a",
   "metadata": {},
   "outputs": [],
   "source": [
    "deals_final.shape"
   ]
  },
  {
   "cell_type": "code",
   "execution_count": null,
   "id": "41eb906d",
   "metadata": {},
   "outputs": [],
   "source": [
    "deals_final.target_revenue.hist(bins=1000)\n",
    "plt.xlim(-10,200)"
   ]
  },
  {
   "cell_type": "code",
   "execution_count": null,
   "id": "167bbd68",
   "metadata": {},
   "outputs": [],
   "source": [
    "deals_final.target_ebitda.hist(bins=100)\n",
    "plt.xlim(-10,20)"
   ]
  },
  {
   "cell_type": "code",
   "execution_count": null,
   "id": "60a6b478",
   "metadata": {},
   "outputs": [],
   "source": [
    "deals_final.target_ebit.hist(bins=100)\n",
    "plt.xlim(-10,20)"
   ]
  },
  {
   "cell_type": "code",
   "execution_count": null,
   "id": "a8edaeba",
   "metadata": {},
   "outputs": [],
   "source": [
    "deals_final['target_ebit'] = np.where(deals_final['target_ebit'].isna(), deals_final['target_ebitda'], deals_final['target_ebit'])"
   ]
  },
  {
   "cell_type": "code",
   "execution_count": null,
   "id": "be1ccf5a",
   "metadata": {},
   "outputs": [],
   "source": [
    "deals_final['target_ebit'].isna().sum()"
   ]
  },
  {
   "cell_type": "code",
   "execution_count": null,
   "id": "8b344a62",
   "metadata": {},
   "outputs": [],
   "source": [
    "deals_final['target_ebitda'].isna().sum()"
   ]
  },
  {
   "cell_type": "code",
   "execution_count": null,
   "id": "a38c2a1e",
   "metadata": {},
   "outputs": [],
   "source": [
    "deals_final['target_ebitda'] = np.where(deals_final['target_ebitda'].isna(), deals_final['target_ebit'], deals_final['target_ebitda'])"
   ]
  },
  {
   "cell_type": "code",
   "execution_count": null,
   "id": "8f899095",
   "metadata": {},
   "outputs": [],
   "source": [
    "deals_final['target_revenue'].isna().sum()"
   ]
  },
  {
   "cell_type": "code",
   "execution_count": null,
   "id": "def3d302",
   "metadata": {},
   "outputs": [],
   "source": [
    "deals_final = deals_final[deals_final['target_ebitda'].notna()]"
   ]
  },
  {
   "cell_type": "code",
   "execution_count": null,
   "id": "61c00bcb",
   "metadata": {},
   "outputs": [],
   "source": [
    "deals_final.target_revenue.isna().sum()"
   ]
  },
  {
   "cell_type": "code",
   "execution_count": null,
   "id": "afd46b11",
   "metadata": {},
   "outputs": [],
   "source": [
    "deals_final = deals_final[deals_final['target_revenue'].notna()]"
   ]
  },
  {
   "cell_type": "code",
   "execution_count": null,
   "id": "af53b3b7",
   "metadata": {},
   "outputs": [],
   "source": [
    "deals_final = deals_final[deals_final['target_ebitda'] != 0]"
   ]
  },
  {
   "cell_type": "code",
   "execution_count": null,
   "id": "893fa19d",
   "metadata": {},
   "outputs": [],
   "source": [
    "deals_final.head()"
   ]
  },
  {
   "cell_type": "code",
   "execution_count": null,
   "id": "bc6b1af4",
   "metadata": {},
   "outputs": [],
   "source": [
    "deals_final.shape"
   ]
  },
  {
   "cell_type": "code",
   "execution_count": null,
   "id": "b7d36451",
   "metadata": {},
   "outputs": [],
   "source": [
    "deals_final_2 = deals_final.copy()"
   ]
  },
  {
   "cell_type": "code",
   "execution_count": null,
   "id": "a21aa0e2",
   "metadata": {},
   "outputs": [],
   "source": [
    "deals_final_2 = deals_final_2.groupby('deal_id').max().reset_index()"
   ]
  },
  {
   "cell_type": "code",
   "execution_count": null,
   "id": "4e5c1a9a",
   "metadata": {},
   "outputs": [],
   "source": [
    "deals_final_2.investor_id.nunique()"
   ]
  },
  {
   "cell_type": "code",
   "execution_count": null,
   "id": "d9ffacfb",
   "metadata": {},
   "outputs": [],
   "source": [
    "deals_final_2"
   ]
  },
  {
   "cell_type": "code",
   "execution_count": null,
   "id": "6e05a952",
   "metadata": {},
   "outputs": [],
   "source": [
    "deals_final_2.boxplot('target_ebit')\n",
    "plt.ylim(0,20)"
   ]
  },
  {
   "cell_type": "code",
   "execution_count": null,
   "id": "296f15aa",
   "metadata": {},
   "outputs": [],
   "source": [
    "from sklearn.preprocessing import RobustScaler\n",
    "\n",
    "r_scaler = RobustScaler() # Instanciate Robust Scaler\n",
    "\n",
    "r_scaler.fit(deals_final_2[['target_revenue']]) # Fit scaler to feature\n",
    "\n",
    "deals_final_2['target_revenue'] = r_scaler.transform(deals_final_2[['target_revenue']]) #Scale\n",
    "\n",
    "deals_final_2.head()"
   ]
  },
  {
   "cell_type": "code",
   "execution_count": null,
   "id": "8aa5ef96",
   "metadata": {},
   "outputs": [],
   "source": [
    "from sklearn.preprocessing import RobustScaler\n",
    "\n",
    "r_scaler = RobustScaler() # Instanciate Robust Scaler\n",
    "\n",
    "r_scaler.fit(deals_final_2[['target_ebitda']]) # Fit scaler to feature\n",
    "\n",
    "deals_final_2['target_ebitda'] = r_scaler.transform(deals_final_2[['target_ebitda']]) #Scale\n",
    "\n",
    "deals_final_2.head()"
   ]
  },
  {
   "cell_type": "code",
   "execution_count": null,
   "id": "764f19b6",
   "metadata": {},
   "outputs": [],
   "source": [
    "from sklearn.preprocessing import RobustScaler\n",
    "\n",
    "r_scaler = RobustScaler() # Instanciate Robust Scaler\n",
    "\n",
    "r_scaler.fit(deals_final_2[['target_ebit']]) # Fit scaler to feature\n",
    "\n",
    "deals_final_2['target_ebit'] = r_scaler.transform(deals_final_2[['target_ebit']]) #Scale\n",
    "\n",
    "deals_final_2.head()"
   ]
  },
  {
   "cell_type": "code",
   "execution_count": null,
   "id": "aa8b5afd",
   "metadata": {},
   "outputs": [],
   "source": [
    "deals_final_2.shape"
   ]
  },
  {
   "cell_type": "code",
   "execution_count": null,
   "id": "6993e7c4",
   "metadata": {},
   "outputs": [],
   "source": [
    "deals_final_2.investor_id.nunique()"
   ]
  },
  {
   "cell_type": "markdown",
   "id": "517da69d",
   "metadata": {},
   "source": [
    "##### final df to merge: deals_final_2"
   ]
  },
  {
   "cell_type": "code",
   "execution_count": null,
   "id": "0293974a",
   "metadata": {},
   "outputs": [],
   "source": []
  }
 ],
 "metadata": {
  "kernelspec": {
   "display_name": "Python 3 (ipykernel)",
   "language": "python",
   "name": "python3"
  },
  "language_info": {
   "codemirror_mode": {
    "name": "ipython",
    "version": 3
   },
   "file_extension": ".py",
   "mimetype": "text/x-python",
   "name": "python",
   "nbconvert_exporter": "python",
   "pygments_lexer": "ipython3",
   "version": "3.8.12"
  },
  "toc": {
   "base_numbering": 1,
   "nav_menu": {},
   "number_sections": true,
   "sideBar": true,
   "skip_h1_title": false,
   "title_cell": "Table of Contents",
   "title_sidebar": "Contents",
   "toc_cell": false,
   "toc_position": {},
   "toc_section_display": true,
   "toc_window_display": false
  }
 },
 "nbformat": 4,
 "nbformat_minor": 5
}
