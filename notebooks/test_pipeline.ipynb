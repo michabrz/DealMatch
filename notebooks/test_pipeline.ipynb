{
 "cells": [
  {
   "cell_type": "code",
   "execution_count": 5,
   "metadata": {},
   "outputs": [],
   "source": [
    "from DealMatch.trainer_unsupervised import Trainer\n",
    "from DealMatch.data_unsupervised import get_targets_data, get_investors_data, get_matching_keys, clean_targets, clean_investors\n",
    "import pandas as pd\n",
    "from sklearn.pipeline import Pipeline\n",
    "from sklearn.compose import ColumnTransformer\n",
    "from sklearn.impute import SimpleImputer\n",
    "from sklearn.preprocessing import RobustScaler\n",
    "import numpy as np\n",
    "from sklearn.feature_extraction.text import TfidfVectorizer\n",
    "from sklearn.decomposition import PCA\n",
    "from sklearn.decomposition import TruncatedSVD\n",
    "from sklearn.base import TransformerMixin\n",
    "from sklearn.neighbors import NearestNeighbors, KNeighborsClassifier\n"
   ]
  },
  {
   "cell_type": "code",
   "execution_count": 2,
   "metadata": {},
   "outputs": [],
   "source": [
    "df_targets_clean = pd.read_csv('../targets.csv', index_col=0).drop(columns='index')\n",
    "test = pd.read_excel('../DealMatch/targets_clean_test.xlsx')"
   ]
  },
  {
   "cell_type": "code",
   "execution_count": 3,
   "metadata": {},
   "outputs": [],
   "source": [
    "# get X\n",
    "X = df_targets_clean"
   ]
  },
  {
   "cell_type": "code",
   "execution_count": 4,
   "metadata": {},
   "outputs": [],
   "source": [
    "# numerical pipeline --> no changes\n",
    "num_features = ['target_ebit','target_ebitda','target_revenue']\n",
    "num_transformer = Pipeline([('imputer', SimpleImputer(missing_values=np.nan, strategy='constant', fill_value=0)),\n",
    "                            ('scaler', RobustScaler())])"
   ]
  },
  {
   "cell_type": "code",
   "execution_count": 34,
   "metadata": {},
   "outputs": [],
   "source": [
    "# custom class transform sparse data from TFIDF to Dense so it fits the numerical transformation\n",
    "class DenseTransformer(TransformerMixin):\n",
    "\n",
    "    def fit(self, X, y=None, **fit_params):\n",
    "        return self\n",
    "\n",
    "    def transform(self, X, y=None, **fit_params):\n",
    "        return X.toarray()"
   ]
  },
  {
   "cell_type": "code",
   "execution_count": 6,
   "metadata": {},
   "outputs": [],
   "source": [
    "# tfidf pipe --> included dense transformer\n",
    "tfidf_features = 'strs'\n",
    "tfidf_transformer = Pipeline([('tfidf', TfidfVectorizer()), ('dense', DenseTransformer())])"
   ]
  },
  {
   "cell_type": "code",
   "execution_count": 7,
   "metadata": {},
   "outputs": [],
   "source": [
    "# full preproc\n",
    "preproc = ColumnTransformer(transformers=[\n",
    "            ('num_tr', num_transformer, num_features),\n",
    "            ('tfidf',tfidf_transformer, tfidf_features)\n",
    "        ], remainder='drop')"
   ]
  },
  {
   "cell_type": "code",
   "execution_count": 8,
   "metadata": {},
   "outputs": [
    {
     "data": {
      "text/plain": [
       "(1111, 4632)"
      ]
     },
     "execution_count": 8,
     "metadata": {},
     "output_type": "execute_result"
    }
   ],
   "source": [
    "preproc.fit_transform(X).shape"
   ]
  },
  {
   "cell_type": "code",
   "execution_count": 9,
   "metadata": {},
   "outputs": [],
   "source": [
    "#full pipe excluding model (had to take out the model because couldn't use attribute 'predict')\n",
    "full = Pipeline([('preproc', preproc),\n",
    "                                          ('pca',\n",
    "                                           PCA(0.95))])"
   ]
  },
  {
   "cell_type": "code",
   "execution_count": 10,
   "metadata": {},
   "outputs": [
    {
     "data": {
      "text/plain": [
       "(1111, 2)"
      ]
     },
     "execution_count": 10,
     "metadata": {},
     "output_type": "execute_result"
    }
   ],
   "source": [
    "full.fit_transform(X).shape"
   ]
  },
  {
   "cell_type": "code",
   "execution_count": 11,
   "metadata": {},
   "outputs": [],
   "source": [
    "#fitted preproc model -> to save\n",
    "preproc_fitted = full.fit(X)\n",
    "\n",
    "#transformed X to train nneighbors\n",
    "preproc_transformed = preproc_fitted.transform(X)\n",
    "\n",
    "#fitted model -> to save\n",
    "fitted_nn = NearestNeighbors(n_neighbors=10).fit(preproc_transformed)"
   ]
  },
  {
   "cell_type": "code",
   "execution_count": 13,
   "metadata": {},
   "outputs": [],
   "source": [
    "# transform test data with preproc + pca pipeline\n",
    "test_transformed = preproc_fitted.transform(test)\n",
    "\n",
    "#run prediction on trained model\n",
    "distance, indices = fitted_nn.kneighbors(test_transformed)"
   ]
  },
  {
   "cell_type": "code",
   "execution_count": 22,
   "metadata": {},
   "outputs": [
    {
     "data": {
      "text/plain": [
       "array([451, 648, 729,  72, 886, 877, 136, 893,  66, 319])"
      ]
     },
     "execution_count": 22,
     "metadata": {},
     "output_type": "execute_result"
    }
   ],
   "source": [
    "indices[0]"
   ]
  },
  {
   "cell_type": "code",
   "execution_count": 28,
   "metadata": {},
   "outputs": [],
   "source": [
    "out = X[X.index.isin(indices[0])]"
   ]
  },
  {
   "cell_type": "code",
   "execution_count": 30,
   "metadata": {},
   "outputs": [
    {
     "data": {
      "text/html": [
       "<div>\n",
       "<style scoped>\n",
       "    .dataframe tbody tr th:only-of-type {\n",
       "        vertical-align: middle;\n",
       "    }\n",
       "\n",
       "    .dataframe tbody tr th {\n",
       "        vertical-align: top;\n",
       "    }\n",
       "\n",
       "    .dataframe thead th {\n",
       "        text-align: right;\n",
       "    }\n",
       "</style>\n",
       "<table border=\"1\" class=\"dataframe\">\n",
       "  <thead>\n",
       "    <tr style=\"text-align: right;\">\n",
       "      <th></th>\n",
       "      <th>deal_id</th>\n",
       "      <th>deal_name</th>\n",
       "      <th>deal_type_name</th>\n",
       "      <th>target_company_id</th>\n",
       "      <th>target_name</th>\n",
       "      <th>target_description</th>\n",
       "      <th>target_revenue</th>\n",
       "      <th>target_ebitda</th>\n",
       "      <th>target_ebit</th>\n",
       "      <th>country_name</th>\n",
       "      <th>region_name</th>\n",
       "      <th>sector_name</th>\n",
       "      <th>strs</th>\n",
       "    </tr>\n",
       "  </thead>\n",
       "  <tbody>\n",
       "    <tr>\n",
       "      <th>0</th>\n",
       "      <td>173</td>\n",
       "      <td>1301 Sun</td>\n",
       "      <td>OTHER</td>\n",
       "      <td>871</td>\n",
       "      <td>Sun [Target]</td>\n",
       "      <td>•\\t350MWp of solar photovoltaic project assets...</td>\n",
       "      <td>NaN</td>\n",
       "      <td>NaN</td>\n",
       "      <td>NaN</td>\n",
       "      <td>NaN</td>\n",
       "      <td>NaN</td>\n",
       "      <td>Energy</td>\n",
       "      <td>energy  solar power  energie  photovoltaik  pv...</td>\n",
       "    </tr>\n",
       "    <tr>\n",
       "      <th>4</th>\n",
       "      <td>129</td>\n",
       "      <td>1220 Supple</td>\n",
       "      <td>OTHER</td>\n",
       "      <td>874</td>\n",
       "      <td>Supple [Target]</td>\n",
       "      <td>Solaranlage in Kreta</td>\n",
       "      <td>57.70</td>\n",
       "      <td>NaN</td>\n",
       "      <td>NaN</td>\n",
       "      <td>NaN</td>\n",
       "      <td>NaN</td>\n",
       "      <td>Energy</td>\n",
       "      <td>energy  renewable energy  other  solar power  ...</td>\n",
       "    </tr>\n",
       "    <tr>\n",
       "      <th>16</th>\n",
       "      <td>407</td>\n",
       "      <td>1677 Heat</td>\n",
       "      <td>MAJORITY</td>\n",
       "      <td>806</td>\n",
       "      <td>SPH Sustainable Process Heat GmbH</td>\n",
       "      <td>PROJECT HEAT hat eine neue Wärmepumpentechnolo...</td>\n",
       "      <td>0.43</td>\n",
       "      <td>-0.78</td>\n",
       "      <td>-0.78</td>\n",
       "      <td>NaN</td>\n",
       "      <td>NaN</td>\n",
       "      <td>Industrial products and services</td>\n",
       "      <td>industrial products and services  pumps and co...</td>\n",
       "    </tr>\n",
       "    <tr>\n",
       "      <th>22</th>\n",
       "      <td>1013</td>\n",
       "      <td>845 Apollo</td>\n",
       "      <td>OTHER</td>\n",
       "      <td>812</td>\n",
       "      <td>SUMMIQ AG</td>\n",
       "      <td>Fundraising für Renewable Holding</td>\n",
       "      <td>0.00</td>\n",
       "      <td>0.00</td>\n",
       "      <td>0.00</td>\n",
       "      <td>Germany</td>\n",
       "      <td>Bavaria</td>\n",
       "      <td>Financial Services</td>\n",
       "      <td>financial services  other diversified financia...</td>\n",
       "    </tr>\n",
       "    <tr>\n",
       "      <th>26</th>\n",
       "      <td>752</td>\n",
       "      <td>390 Saragossa</td>\n",
       "      <td>OTHER</td>\n",
       "      <td>507</td>\n",
       "      <td>KSW Bioenergie GmbH</td>\n",
       "      <td>Errichtung eines CO2-neutralen Bio-Energie Kra...</td>\n",
       "      <td>0.00</td>\n",
       "      <td>0.00</td>\n",
       "      <td>0.00</td>\n",
       "      <td>Germany</td>\n",
       "      <td>North Rhine-Westphalia</td>\n",
       "      <td>Energy</td>\n",
       "      <td>bioenergy  energy  bioenergie  biomasse  biotr...</td>\n",
       "    </tr>\n",
       "    <tr>\n",
       "      <th>...</th>\n",
       "      <td>...</td>\n",
       "      <td>...</td>\n",
       "      <td>...</td>\n",
       "      <td>...</td>\n",
       "      <td>...</td>\n",
       "      <td>...</td>\n",
       "      <td>...</td>\n",
       "      <td>...</td>\n",
       "      <td>...</td>\n",
       "      <td>...</td>\n",
       "      <td>...</td>\n",
       "      <td>...</td>\n",
       "      <td>...</td>\n",
       "    </tr>\n",
       "    <tr>\n",
       "      <th>342265</th>\n",
       "      <td>126</td>\n",
       "      <td>1213 Gutenberg| Navigator Capital</td>\n",
       "      <td>NaN</td>\n",
       "      <td>667</td>\n",
       "      <td>Navigator Capital GmbH</td>\n",
       "      <td>Ihre Buchbinderei in Darmstadt – Verbindungen,...</td>\n",
       "      <td>5.20</td>\n",
       "      <td>0.38</td>\n",
       "      <td>0.11</td>\n",
       "      <td>Germany</td>\n",
       "      <td>Saxony-Anhalt</td>\n",
       "      <td>Professional Services (B2B)</td>\n",
       "      <td>other services  printing and binding  professi...</td>\n",
       "    </tr>\n",
       "    <tr>\n",
       "      <th>342474</th>\n",
       "      <td>196</td>\n",
       "      <td>1350 Thunder | mutares AG</td>\n",
       "      <td>NaN</td>\n",
       "      <td>648</td>\n",
       "      <td>Mutares SE &amp; Co. KGaA</td>\n",
       "      <td>Der Spezialist für ausgefallenen Bedarf. Egal ...</td>\n",
       "      <td>2.90</td>\n",
       "      <td>0.45</td>\n",
       "      <td>0.38</td>\n",
       "      <td>Germany</td>\n",
       "      <td>North Rhine-Westphalia</td>\n",
       "      <td>Construction</td>\n",
       "      <td>construction  construction suppliers trade  di...</td>\n",
       "    </tr>\n",
       "    <tr>\n",
       "      <th>343117</th>\n",
       "      <td>689</td>\n",
       "      <td>2141 Saale</td>\n",
       "      <td>MAJORITY</td>\n",
       "      <td>331</td>\n",
       "      <td>G.S.M. Gas-Heizungen Sanitärinstallationen GmbH</td>\n",
       "      <td>Sanitär-Heizung-Klima-Unternehmen</td>\n",
       "      <td>4.30</td>\n",
       "      <td>NaN</td>\n",
       "      <td>0.70</td>\n",
       "      <td>Germany</td>\n",
       "      <td>Berlin</td>\n",
       "      <td>Industrial products and services</td>\n",
       "      <td>industrial products and services  ventilation ...</td>\n",
       "    </tr>\n",
       "    <tr>\n",
       "      <th>345053</th>\n",
       "      <td>690</td>\n",
       "      <td>2143 Highstreet</td>\n",
       "      <td>MAJORITY</td>\n",
       "      <td>885</td>\n",
       "      <td>TLF LabelFinder GmbH</td>\n",
       "      <td>Suchmaschine für Modemarken</td>\n",
       "      <td>0.32</td>\n",
       "      <td>0.23</td>\n",
       "      <td>NaN</td>\n",
       "      <td>Germany</td>\n",
       "      <td>Berlin</td>\n",
       "      <td>Internet/ecommerce</td>\n",
       "      <td>internetecommerce  search engines and other in...</td>\n",
       "    </tr>\n",
       "    <tr>\n",
       "      <th>345269</th>\n",
       "      <td>829</td>\n",
       "      <td>532 Road | Möhlmann Transporte GmbH</td>\n",
       "      <td>MAJORITY</td>\n",
       "      <td>652</td>\n",
       "      <td>Möhlmann Transporte GmbH</td>\n",
       "      <td>Transport- und Logistikunternehmen - Dienstlei...</td>\n",
       "      <td>10.00</td>\n",
       "      <td>2.50</td>\n",
       "      <td>1.50</td>\n",
       "      <td>NaN</td>\n",
       "      <td>NaN</td>\n",
       "      <td>Transportation</td>\n",
       "      <td>logistics  transportation  entsorgung  komplet...</td>\n",
       "    </tr>\n",
       "  </tbody>\n",
       "</table>\n",
       "<p>1111 rows × 13 columns</p>\n",
       "</div>"
      ],
      "text/plain": [
       "        deal_id                            deal_name deal_type_name  \\\n",
       "0           173                             1301 Sun          OTHER   \n",
       "4           129                          1220 Supple          OTHER   \n",
       "16          407                            1677 Heat       MAJORITY   \n",
       "22         1013                           845 Apollo          OTHER   \n",
       "26          752                        390 Saragossa          OTHER   \n",
       "...         ...                                  ...            ...   \n",
       "342265      126    1213 Gutenberg| Navigator Capital            NaN   \n",
       "342474      196            1350 Thunder | mutares AG            NaN   \n",
       "343117      689                           2141 Saale       MAJORITY   \n",
       "345053      690                      2143 Highstreet       MAJORITY   \n",
       "345269      829  532 Road | Möhlmann Transporte GmbH       MAJORITY   \n",
       "\n",
       "        target_company_id                                      target_name  \\\n",
       "0                     871                                     Sun [Target]   \n",
       "4                     874                                  Supple [Target]   \n",
       "16                    806                SPH Sustainable Process Heat GmbH   \n",
       "22                    812                                        SUMMIQ AG   \n",
       "26                    507                              KSW Bioenergie GmbH   \n",
       "...                   ...                                              ...   \n",
       "342265                667                           Navigator Capital GmbH   \n",
       "342474                648                            Mutares SE & Co. KGaA   \n",
       "343117                331  G.S.M. Gas-Heizungen Sanitärinstallationen GmbH   \n",
       "345053                885                             TLF LabelFinder GmbH   \n",
       "345269                652                         Möhlmann Transporte GmbH   \n",
       "\n",
       "                                       target_description  target_revenue  \\\n",
       "0       •\\t350MWp of solar photovoltaic project assets...             NaN   \n",
       "4                                    Solaranlage in Kreta           57.70   \n",
       "16      PROJECT HEAT hat eine neue Wärmepumpentechnolo...            0.43   \n",
       "22                      Fundraising für Renewable Holding            0.00   \n",
       "26      Errichtung eines CO2-neutralen Bio-Energie Kra...            0.00   \n",
       "...                                                   ...             ...   \n",
       "342265  Ihre Buchbinderei in Darmstadt – Verbindungen,...            5.20   \n",
       "342474  Der Spezialist für ausgefallenen Bedarf. Egal ...            2.90   \n",
       "343117                  Sanitär-Heizung-Klima-Unternehmen            4.30   \n",
       "345053                        Suchmaschine für Modemarken            0.32   \n",
       "345269  Transport- und Logistikunternehmen - Dienstlei...           10.00   \n",
       "\n",
       "        target_ebitda  target_ebit country_name             region_name  \\\n",
       "0                 NaN          NaN          NaN                     NaN   \n",
       "4                 NaN          NaN          NaN                     NaN   \n",
       "16              -0.78        -0.78          NaN                     NaN   \n",
       "22               0.00         0.00      Germany                 Bavaria   \n",
       "26               0.00         0.00      Germany  North Rhine-Westphalia   \n",
       "...               ...          ...          ...                     ...   \n",
       "342265           0.38         0.11      Germany           Saxony-Anhalt   \n",
       "342474           0.45         0.38      Germany  North Rhine-Westphalia   \n",
       "343117            NaN         0.70      Germany                  Berlin   \n",
       "345053           0.23          NaN      Germany                  Berlin   \n",
       "345269           2.50         1.50          NaN                     NaN   \n",
       "\n",
       "                             sector_name  \\\n",
       "0                                 Energy   \n",
       "4                                 Energy   \n",
       "16      Industrial products and services   \n",
       "22                    Financial Services   \n",
       "26                                Energy   \n",
       "...                                  ...   \n",
       "342265       Professional Services (B2B)   \n",
       "342474                      Construction   \n",
       "343117  Industrial products and services   \n",
       "345053                Internet/ecommerce   \n",
       "345269                    Transportation   \n",
       "\n",
       "                                                     strs  \n",
       "0       energy  solar power  energie  photovoltaik  pv...  \n",
       "4       energy  renewable energy  other  solar power  ...  \n",
       "16      industrial products and services  pumps and co...  \n",
       "22      financial services  other diversified financia...  \n",
       "26      bioenergy  energy  bioenergie  biomasse  biotr...  \n",
       "...                                                   ...  \n",
       "342265  other services  printing and binding  professi...  \n",
       "342474  construction  construction suppliers trade  di...  \n",
       "343117  industrial products and services  ventilation ...  \n",
       "345053  internetecommerce  search engines and other in...  \n",
       "345269  logistics  transportation  entsorgung  komplet...  \n",
       "\n",
       "[1111 rows x 13 columns]"
      ]
     },
     "execution_count": 30,
     "metadata": {},
     "output_type": "execute_result"
    }
   ],
   "source": [
    "X"
   ]
  },
  {
   "cell_type": "code",
   "execution_count": 2,
   "metadata": {},
   "outputs": [],
   "source": [
    "import pandas as pd\n",
    "Y = df_investors_clean = pd.read_csv('../DealMatch/investors.csv', index_col=0)\n"
   ]
  },
  {
   "cell_type": "code",
   "execution_count": 7,
   "metadata": {},
   "outputs": [],
   "source": [
    "test_y = Trainer(X=None, Y=Y)"
   ]
  },
  {
   "cell_type": "code",
   "execution_count": 125,
   "metadata": {},
   "outputs": [
    {
     "name": "stdout",
     "output_type": "stream",
     "text": [
      "                                            name  \\\n",
      "0                                      10X group   \n",
      "1                        123 Investment Managers   \n",
      "2                                   137 Ventures   \n",
      "3                                   138 Pyramids   \n",
      "4                                  17Capital LLP   \n",
      "...                                          ...   \n",
      "3179                        winelike invest GmbH   \n",
      "3180                          yabeo Capital GmbH   \n",
      "3181  zfhn Zukunftsfonds Heilbronn GmbH & Co. KG   \n",
      "3182                     zur Mühlen ApS & Co. KG   \n",
      "3183                         zwei.7 Holding GmbH   \n",
      "\n",
      "                                                name_de  \n",
      "0                 startup app daten internet agnostisch  \n",
      "1     tourismus altenpflege gastronomie labor senior...  \n",
      "2                                            agnostisch  \n",
      "3                                            agnostisch  \n",
      "4                                            agnostisch  \n",
      "...                                                 ...  \n",
      "3179                                          immobilie  \n",
      "3180  medien software fintech pharma energie reinigu...  \n",
      "3181             recycling technologie industrie  optik  \n",
      "3182                     fleisch metzgerei lebensmittel  \n",
      "3183  ecommerce immobilie gesundheit energie biokraf...  \n",
      "\n",
      "[3184 rows x 2 columns]\n"
     ]
    },
    {
     "name": "stderr",
     "output_type": "stream",
     "text": [
      "/Users/michieldekoninck/.pyenv/versions/3.8.12/envs/dealmatch/lib/python3.8/site-packages/sklearn/decomposition/_pca.py:499: RuntimeWarning: invalid value encountered in true_divide\n",
      "  explained_variance_ = (S ** 2) / (n_samples - 1)\n"
     ]
    }
   ],
   "source": [
    "test_y.set_pipeline_investors()"
   ]
  },
  {
   "cell_type": "code",
   "execution_count": 126,
   "metadata": {},
   "outputs": [
    {
     "data": {
      "text/plain": [
       "Pipeline(steps=[('preproc',\n",
       "                 ColumnTransformer(transformers=[('tfidf', TfidfVectorizer(),\n",
       "                                                  ['name_de'])])),\n",
       "                ('pca', PCA())])"
      ]
     },
     "execution_count": 126,
     "metadata": {},
     "output_type": "execute_result"
    }
   ],
   "source": [
    "test_y.pipeline_investors"
   ]
  },
  {
   "cell_type": "code",
   "execution_count": 115,
   "metadata": {},
   "outputs": [
    {
     "data": {
      "text/html": [
       "<div>\n",
       "<style scoped>\n",
       "    .dataframe tbody tr th:only-of-type {\n",
       "        vertical-align: middle;\n",
       "    }\n",
       "\n",
       "    .dataframe tbody tr th {\n",
       "        vertical-align: top;\n",
       "    }\n",
       "\n",
       "    .dataframe thead th {\n",
       "        text-align: right;\n",
       "    }\n",
       "</style>\n",
       "<table border=\"1\" class=\"dataframe\">\n",
       "  <thead>\n",
       "    <tr style=\"text-align: right;\">\n",
       "      <th></th>\n",
       "      <th>name</th>\n",
       "      <th>name_de</th>\n",
       "    </tr>\n",
       "  </thead>\n",
       "  <tbody>\n",
       "    <tr>\n",
       "      <th>0</th>\n",
       "      <td>10X group</td>\n",
       "      <td>startup app daten internet agnostisch</td>\n",
       "    </tr>\n",
       "    <tr>\n",
       "      <th>1</th>\n",
       "      <td>123 Investment Managers</td>\n",
       "      <td>tourismus altenpflege gastronomie labor senior...</td>\n",
       "    </tr>\n",
       "    <tr>\n",
       "      <th>2</th>\n",
       "      <td>137 Ventures</td>\n",
       "      <td>agnostisch</td>\n",
       "    </tr>\n",
       "    <tr>\n",
       "      <th>3</th>\n",
       "      <td>138 Pyramids</td>\n",
       "      <td>agnostisch</td>\n",
       "    </tr>\n",
       "    <tr>\n",
       "      <th>4</th>\n",
       "      <td>17Capital LLP</td>\n",
       "      <td>agnostisch</td>\n",
       "    </tr>\n",
       "    <tr>\n",
       "      <th>...</th>\n",
       "      <td>...</td>\n",
       "      <td>...</td>\n",
       "    </tr>\n",
       "    <tr>\n",
       "      <th>3179</th>\n",
       "      <td>winelike invest GmbH</td>\n",
       "      <td>immobilie</td>\n",
       "    </tr>\n",
       "    <tr>\n",
       "      <th>3180</th>\n",
       "      <td>yabeo Capital GmbH</td>\n",
       "      <td>medien software fintech pharma energie reinigu...</td>\n",
       "    </tr>\n",
       "    <tr>\n",
       "      <th>3181</th>\n",
       "      <td>zfhn Zukunftsfonds Heilbronn GmbH &amp; Co. KG</td>\n",
       "      <td>recycling technologie industrie  optik</td>\n",
       "    </tr>\n",
       "    <tr>\n",
       "      <th>3182</th>\n",
       "      <td>zur Mühlen ApS &amp; Co. KG</td>\n",
       "      <td>fleisch metzgerei lebensmittel</td>\n",
       "    </tr>\n",
       "    <tr>\n",
       "      <th>3183</th>\n",
       "      <td>zwei.7 Holding GmbH</td>\n",
       "      <td>ecommerce immobilie gesundheit energie biokraf...</td>\n",
       "    </tr>\n",
       "  </tbody>\n",
       "</table>\n",
       "<p>3184 rows × 2 columns</p>\n",
       "</div>"
      ],
      "text/plain": [
       "                                            name  \\\n",
       "0                                      10X group   \n",
       "1                        123 Investment Managers   \n",
       "2                                   137 Ventures   \n",
       "3                                   138 Pyramids   \n",
       "4                                  17Capital LLP   \n",
       "...                                          ...   \n",
       "3179                        winelike invest GmbH   \n",
       "3180                          yabeo Capital GmbH   \n",
       "3181  zfhn Zukunftsfonds Heilbronn GmbH & Co. KG   \n",
       "3182                     zur Mühlen ApS & Co. KG   \n",
       "3183                         zwei.7 Holding GmbH   \n",
       "\n",
       "                                                name_de  \n",
       "0                 startup app daten internet agnostisch  \n",
       "1     tourismus altenpflege gastronomie labor senior...  \n",
       "2                                            agnostisch  \n",
       "3                                            agnostisch  \n",
       "4                                            agnostisch  \n",
       "...                                                 ...  \n",
       "3179                                          immobilie  \n",
       "3180  medien software fintech pharma energie reinigu...  \n",
       "3181             recycling technologie industrie  optik  \n",
       "3182                     fleisch metzgerei lebensmittel  \n",
       "3183  ecommerce immobilie gesundheit energie biokraf...  \n",
       "\n",
       "[3184 rows x 2 columns]"
      ]
     },
     "execution_count": 115,
     "metadata": {},
     "output_type": "execute_result"
    }
   ],
   "source": [
    "test_y.Y"
   ]
  },
  {
   "cell_type": "code",
   "execution_count": 69,
   "metadata": {},
   "outputs": [],
   "source": [
    "preprocessor = ColumnTransformer([('tfidf',TfidfVectorizer(),'name_de')], remainder='drop')\n",
    "\n",
    "pipeline_investors = Pipeline([('preproc',preprocessor),\n",
    "                            ('dense', DenseTransformer()),\n",
    "                            ('pca',PCA(0.95))\n",
    "        ])"
   ]
  },
  {
   "cell_type": "code",
   "execution_count": 70,
   "metadata": {},
   "outputs": [],
   "source": [
    "fitted_preproc = pipeline_investors.fit(Y)"
   ]
  },
  {
   "cell_type": "code",
   "execution_count": 71,
   "metadata": {},
   "outputs": [],
   "source": [
    "y_transformed = fitted_preproc.transform(Y)"
   ]
  },
  {
   "cell_type": "code",
   "execution_count": 72,
   "metadata": {},
   "outputs": [
    {
     "data": {
      "text/plain": [
       "(3184, 385)"
      ]
     },
     "execution_count": 72,
     "metadata": {},
     "output_type": "execute_result"
    }
   ],
   "source": [
    "y_transformed.shape"
   ]
  },
  {
   "cell_type": "code",
   "execution_count": 73,
   "metadata": {},
   "outputs": [],
   "source": [
    "nn_investors = NearestNeighbors(n_neighbors=10).fit(y_transformed)"
   ]
  },
  {
   "cell_type": "code",
   "execution_count": 74,
   "metadata": {},
   "outputs": [
    {
     "data": {
      "text/plain": [
       "NearestNeighbors(n_neighbors=10)"
      ]
     },
     "execution_count": 74,
     "metadata": {},
     "output_type": "execute_result"
    }
   ],
   "source": [
    "nn_investors"
   ]
  },
  {
   "cell_type": "code",
   "execution_count": 144,
   "metadata": {},
   "outputs": [],
   "source": [
    "import joblib\n",
    "from DealMatch.custom_transformer import *"
   ]
  },
  {
   "cell_type": "code",
   "execution_count": 179,
   "metadata": {},
   "outputs": [
    {
     "data": {
      "text/plain": [
       "Pipeline(steps=[('preproc',\n",
       "                 ColumnTransformer(transformers=[('name_de',\n",
       "                                                  Pipeline(steps=[('tfidf',\n",
       "                                                                   TfidfVectorizer()),\n",
       "                                                                  ('dense',\n",
       "                                                                   <DealMatch.custom_transformer.DenseTransformer object at 0x1573dd280>)]),\n",
       "                                                  'name_de')])),\n",
       "                ('pca', PCA(n_components=0.95))])"
      ]
     },
     "execution_count": 179,
     "metadata": {},
     "output_type": "execute_result"
    }
   ],
   "source": [
    "investors_pipe = joblib.load(\"../DealMatch/pipeline_investors.pkl\")\n",
    "investors_pipe"
   ]
  },
  {
   "cell_type": "code",
   "execution_count": 146,
   "metadata": {},
   "outputs": [
    {
     "data": {
      "text/plain": [
       "Pipeline(steps=[('preproc',\n",
       "                 ColumnTransformer(transformers=[('num_tr',\n",
       "                                                  Pipeline(steps=[('imputer',\n",
       "                                                                   SimpleImputer(fill_value=0,\n",
       "                                                                                 strategy='constant')),\n",
       "                                                                  ('scaler',\n",
       "                                                                   RobustScaler())]),\n",
       "                                                  ['target_ebit',\n",
       "                                                   'target_ebitda',\n",
       "                                                   'target_revenue']),\n",
       "                                                 ('tfidf',\n",
       "                                                  Pipeline(steps=[('tfidf',\n",
       "                                                                   TfidfVectorizer()),\n",
       "                                                                  ('dense',\n",
       "                                                                   <DealMatch.custom_transformer.DenseTransformer object at 0x154b63670>)]),\n",
       "                                                  'strs')])),\n",
       "                ('pca', PCA(n_components=0.95))])"
      ]
     },
     "execution_count": 146,
     "metadata": {},
     "output_type": "execute_result"
    }
   ],
   "source": [
    "joblib.load(\"../DealMatch/pipeline.pkl\")"
   ]
  },
  {
   "cell_type": "code",
   "execution_count": null,
   "metadata": {},
   "outputs": [],
   "source": []
  },
  {
   "cell_type": "code",
   "execution_count": 170,
   "metadata": {},
   "outputs": [],
   "source": [
    "investors = pd.read_csv('../DealMatch/investors.csv')"
   ]
  },
  {
   "cell_type": "code",
   "execution_count": 171,
   "metadata": {},
   "outputs": [],
   "source": [
    "check = investors[investors['name']=='Augur Capital AG']"
   ]
  },
  {
   "cell_type": "code",
   "execution_count": 172,
   "metadata": {},
   "outputs": [
    {
     "name": "stderr",
     "output_type": "stream",
     "text": [
      "/var/folders/3l/70h6qcrd72q0j5x4sscw7qn40000gn/T/ipykernel_14244/2903509570.py:1: SettingWithCopyWarning: \n",
      "A value is trying to be set on a copy of a slice from a DataFrame\n",
      "\n",
      "See the caveats in the documentation: https://pandas.pydata.org/pandas-docs/stable/user_guide/indexing.html#returning-a-view-versus-a-copy\n",
      "  check.drop(columns={'Unnamed: 0'}, inplace=True)\n"
     ]
    },
    {
     "data": {
      "text/html": [
       "<div>\n",
       "<style scoped>\n",
       "    .dataframe tbody tr th:only-of-type {\n",
       "        vertical-align: middle;\n",
       "    }\n",
       "\n",
       "    .dataframe tbody tr th {\n",
       "        vertical-align: top;\n",
       "    }\n",
       "\n",
       "    .dataframe thead th {\n",
       "        text-align: right;\n",
       "    }\n",
       "</style>\n",
       "<table border=\"1\" class=\"dataframe\">\n",
       "  <thead>\n",
       "    <tr style=\"text-align: right;\">\n",
       "      <th></th>\n",
       "      <th>name</th>\n",
       "      <th>name_de</th>\n",
       "    </tr>\n",
       "  </thead>\n",
       "  <tbody>\n",
       "    <tr>\n",
       "      <th>340</th>\n",
       "      <td>Augur Capital AG</td>\n",
       "      <td>solaranlage medizintechnik bildung umschulunge...</td>\n",
       "    </tr>\n",
       "  </tbody>\n",
       "</table>\n",
       "</div>"
      ],
      "text/plain": [
       "                 name                                            name_de\n",
       "340  Augur Capital AG  solaranlage medizintechnik bildung umschulunge..."
      ]
     },
     "execution_count": 172,
     "metadata": {},
     "output_type": "execute_result"
    }
   ],
   "source": [
    "check.drop(columns={'Unnamed: 0'}, inplace=True)\n",
    "check"
   ]
  },
  {
   "cell_type": "code",
   "execution_count": 173,
   "metadata": {},
   "outputs": [
    {
     "data": {
      "text/html": [
       "<div>\n",
       "<style scoped>\n",
       "    .dataframe tbody tr th:only-of-type {\n",
       "        vertical-align: middle;\n",
       "    }\n",
       "\n",
       "    .dataframe tbody tr th {\n",
       "        vertical-align: top;\n",
       "    }\n",
       "\n",
       "    .dataframe thead th {\n",
       "        text-align: right;\n",
       "    }\n",
       "</style>\n",
       "<table border=\"1\" class=\"dataframe\">\n",
       "  <thead>\n",
       "    <tr style=\"text-align: right;\">\n",
       "      <th></th>\n",
       "      <th>name</th>\n",
       "      <th>name_de</th>\n",
       "    </tr>\n",
       "  </thead>\n",
       "  <tbody>\n",
       "    <tr>\n",
       "      <th>0</th>\n",
       "      <td>10X group</td>\n",
       "      <td>startup app daten internet agnostisch</td>\n",
       "    </tr>\n",
       "    <tr>\n",
       "      <th>1</th>\n",
       "      <td>123 Investment Managers</td>\n",
       "      <td>tourismus altenpflege gastronomie labor senior...</td>\n",
       "    </tr>\n",
       "    <tr>\n",
       "      <th>2</th>\n",
       "      <td>137 Ventures</td>\n",
       "      <td>agnostisch</td>\n",
       "    </tr>\n",
       "    <tr>\n",
       "      <th>3</th>\n",
       "      <td>138 Pyramids</td>\n",
       "      <td>agnostisch</td>\n",
       "    </tr>\n",
       "    <tr>\n",
       "      <th>4</th>\n",
       "      <td>17Capital LLP</td>\n",
       "      <td>agnostisch</td>\n",
       "    </tr>\n",
       "    <tr>\n",
       "      <th>...</th>\n",
       "      <td>...</td>\n",
       "      <td>...</td>\n",
       "    </tr>\n",
       "    <tr>\n",
       "      <th>3179</th>\n",
       "      <td>winelike invest GmbH</td>\n",
       "      <td>immobilie</td>\n",
       "    </tr>\n",
       "    <tr>\n",
       "      <th>3180</th>\n",
       "      <td>yabeo Capital GmbH</td>\n",
       "      <td>medien software fintech pharma energie reinigu...</td>\n",
       "    </tr>\n",
       "    <tr>\n",
       "      <th>3181</th>\n",
       "      <td>zfhn Zukunftsfonds Heilbronn GmbH &amp; Co. KG</td>\n",
       "      <td>recycling technologie industrie  optik</td>\n",
       "    </tr>\n",
       "    <tr>\n",
       "      <th>3182</th>\n",
       "      <td>zur Mühlen ApS &amp; Co. KG</td>\n",
       "      <td>fleisch metzgerei lebensmittel</td>\n",
       "    </tr>\n",
       "    <tr>\n",
       "      <th>3183</th>\n",
       "      <td>zwei.7 Holding GmbH</td>\n",
       "      <td>ecommerce immobilie gesundheit energie biokraf...</td>\n",
       "    </tr>\n",
       "  </tbody>\n",
       "</table>\n",
       "<p>3184 rows × 2 columns</p>\n",
       "</div>"
      ],
      "text/plain": [
       "                                            name  \\\n",
       "0                                      10X group   \n",
       "1                        123 Investment Managers   \n",
       "2                                   137 Ventures   \n",
       "3                                   138 Pyramids   \n",
       "4                                  17Capital LLP   \n",
       "...                                          ...   \n",
       "3179                        winelike invest GmbH   \n",
       "3180                          yabeo Capital GmbH   \n",
       "3181  zfhn Zukunftsfonds Heilbronn GmbH & Co. KG   \n",
       "3182                     zur Mühlen ApS & Co. KG   \n",
       "3183                         zwei.7 Holding GmbH   \n",
       "\n",
       "                                                name_de  \n",
       "0                 startup app daten internet agnostisch  \n",
       "1     tourismus altenpflege gastronomie labor senior...  \n",
       "2                                            agnostisch  \n",
       "3                                            agnostisch  \n",
       "4                                            agnostisch  \n",
       "...                                                 ...  \n",
       "3179                                          immobilie  \n",
       "3180  medien software fintech pharma energie reinigu...  \n",
       "3181             recycling technologie industrie  optik  \n",
       "3182                     fleisch metzgerei lebensmittel  \n",
       "3183  ecommerce immobilie gesundheit energie biokraf...  \n",
       "\n",
       "[3184 rows x 2 columns]"
      ]
     },
     "execution_count": 173,
     "metadata": {},
     "output_type": "execute_result"
    }
   ],
   "source": [
    "Y"
   ]
  },
  {
   "cell_type": "code",
   "execution_count": 175,
   "metadata": {},
   "outputs": [
    {
     "data": {
      "text/plain": [
       "(3184, 385)"
      ]
     },
     "execution_count": 175,
     "metadata": {},
     "output_type": "execute_result"
    }
   ],
   "source": [
    "y_transformed = investors_pipe.transform(Y)\n",
    "y_transformed.shape"
   ]
  },
  {
   "cell_type": "code",
   "execution_count": 176,
   "metadata": {},
   "outputs": [],
   "source": [
    "nn_investors = NearestNeighbors(n_neighbors=10).fit(y_transformed)"
   ]
  },
  {
   "cell_type": "code",
   "execution_count": 178,
   "metadata": {},
   "outputs": [
    {
     "data": {
      "text/plain": [
       "(1, 385)"
      ]
     },
     "execution_count": 178,
     "metadata": {},
     "output_type": "execute_result"
    }
   ],
   "source": [
    "y_transformed_1 = investors_pipe.transform(check)\n",
    "y_transformed_1.shape"
   ]
  },
  {
   "cell_type": "code",
   "execution_count": 161,
   "metadata": {},
   "outputs": [],
   "source": [
    "nn_investors = joblib.load(\"../DealMatch/nn_investors.pkl\")"
   ]
  },
  {
   "cell_type": "code",
   "execution_count": 162,
   "metadata": {},
   "outputs": [
    {
     "data": {
      "text/plain": [
       "(array([[2.98023224e-08, 7.93708436e-01, 9.33961051e-01, ...,\n",
       "         1.01037541e+00, 1.01971895e+00, 1.04815412e+00],\n",
       "        [2.58095683e-08, 9.24882324e-01, 9.28591441e-01, ...,\n",
       "         9.94840348e-01, 9.96029108e-01, 9.99266516e-01],\n",
       "        [0.00000000e+00, 0.00000000e+00, 0.00000000e+00, ...,\n",
       "         0.00000000e+00, 0.00000000e+00, 0.00000000e+00],\n",
       "        ...,\n",
       "        [1.49011612e-08, 7.85505338e-01, 8.00219324e-01, ...,\n",
       "         1.02206928e+00, 1.02206928e+00, 1.02206928e+00],\n",
       "        [0.00000000e+00, 5.99644741e-01, 9.46276494e-01, ...,\n",
       "         1.07744598e+00, 1.08045269e+00, 1.08813997e+00],\n",
       "        [0.00000000e+00, 9.04790848e-01, 9.56989744e-01, ...,\n",
       "         1.00687700e+00, 1.01975114e+00, 1.02149649e+00]]),\n",
       " array([[   0, 1081, 1091, ...,   82, 1608, 3111],\n",
       "        [   1,  303, 1776, ..., 1402, 1601, 2156],\n",
       "        [1768, 1759, 1779, ..., 1736,  327, 1813],\n",
       "        ...,\n",
       "        [3181, 3148, 1067, ..., 1460, 2664,  205],\n",
       "        [3182, 3109, 1553, ..., 1601,  498,  743],\n",
       "        [3183, 2564,  295, ..., 2351,  597, 2785]]))"
      ]
     },
     "execution_count": 162,
     "metadata": {},
     "output_type": "execute_result"
    }
   ],
   "source": [
    "nn_investors.kneighbors(y_transformed)"
   ]
  },
  {
   "cell_type": "code",
   "execution_count": null,
   "metadata": {},
   "outputs": [],
   "source": []
  }
 ],
 "metadata": {
  "interpreter": {
   "hash": "63305f572d39f1f057a29d6f90b97f50226f939806bf67798e7b1d2d4622b84a"
  },
  "kernelspec": {
   "display_name": "Python 3.8.12 64-bit ('lewagon')",
   "language": "python",
   "name": "python3"
  },
  "language_info": {
   "codemirror_mode": {
    "name": "ipython",
    "version": 3
   },
   "file_extension": ".py",
   "mimetype": "text/x-python",
   "name": "python",
   "nbconvert_exporter": "python",
   "pygments_lexer": "ipython3",
   "version": "3.8.12"
  },
  "orig_nbformat": 4
 },
 "nbformat": 4,
 "nbformat_minor": 2
}
