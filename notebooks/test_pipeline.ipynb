{
 "cells": [
  {
   "cell_type": "code",
   "execution_count": 253,
   "metadata": {},
   "outputs": [],
   "source": [
    "from DealMatch.trainer_unsupervised import Trainer\n",
    "from DealMatch.data_unsupervised import get_targets_data, get_investors_data, get_matching_keys, clean_targets, clean_investors\n",
    "import pandas as pd\n",
    "from sklearn.pipeline import Pipeline\n",
    "from sklearn.compose import ColumnTransformer\n",
    "from sklearn.impute import SimpleImputer\n",
    "from sklearn.preprocessing import RobustScaler\n",
    "import numpy as np\n",
    "from sklearn.feature_extraction.text import TfidfVectorizer\n",
    "from sklearn.decomposition import PCA\n",
    "from sklearn.decomposition import TruncatedSVD\n",
    "from sklearn.base import TransformerMixin\n",
    "from sklearn.neighbors import NearestNeighbors, KNeighborsClassifier\n"
   ]
  },
  {
   "cell_type": "code",
   "execution_count": 24,
   "metadata": {},
   "outputs": [],
   "source": [
    "df_targets_clean = pd.read_csv('../targets.csv', index_col=0).drop(columns='index')\n",
    "df_investors_clean = pd.read_csv('../investors.csv', index_col=0)\n",
    "test = pd.read_excel('../DealMatch/targets_clean_test.xlsx')"
   ]
  },
  {
   "cell_type": "code",
   "execution_count": 25,
   "metadata": {},
   "outputs": [
    {
     "data": {
      "text/html": [
       "<div>\n",
       "<style scoped>\n",
       "    .dataframe tbody tr th:only-of-type {\n",
       "        vertical-align: middle;\n",
       "    }\n",
       "\n",
       "    .dataframe tbody tr th {\n",
       "        vertical-align: top;\n",
       "    }\n",
       "\n",
       "    .dataframe thead th {\n",
       "        text-align: right;\n",
       "    }\n",
       "</style>\n",
       "<table border=\"1\" class=\"dataframe\">\n",
       "  <thead>\n",
       "    <tr style=\"text-align: right;\">\n",
       "      <th></th>\n",
       "      <th>deal_id</th>\n",
       "      <th>deal_name</th>\n",
       "      <th>deal_type_name</th>\n",
       "      <th>target_company_id</th>\n",
       "      <th>target_name</th>\n",
       "      <th>target_description</th>\n",
       "      <th>target_revenue</th>\n",
       "      <th>target_ebitda</th>\n",
       "      <th>target_ebit</th>\n",
       "      <th>country_name</th>\n",
       "      <th>region_name</th>\n",
       "      <th>sector_name</th>\n",
       "      <th>strs</th>\n",
       "    </tr>\n",
       "  </thead>\n",
       "  <tbody>\n",
       "    <tr>\n",
       "      <th>0</th>\n",
       "      <td>173</td>\n",
       "      <td>1301 Sun</td>\n",
       "      <td>OTHER</td>\n",
       "      <td>871</td>\n",
       "      <td>Sun [Target]</td>\n",
       "      <td>•\\t350MWp of solar photovoltaic project assets...</td>\n",
       "      <td>NaN</td>\n",
       "      <td>NaN</td>\n",
       "      <td>NaN</td>\n",
       "      <td>NaN</td>\n",
       "      <td>NaN</td>\n",
       "      <td>Energy</td>\n",
       "      <td>energy  solar power  energie  photovoltaik  pv...</td>\n",
       "    </tr>\n",
       "    <tr>\n",
       "      <th>4</th>\n",
       "      <td>129</td>\n",
       "      <td>1220 Supple</td>\n",
       "      <td>OTHER</td>\n",
       "      <td>874</td>\n",
       "      <td>Supple [Target]</td>\n",
       "      <td>Solaranlage in Kreta</td>\n",
       "      <td>57.70</td>\n",
       "      <td>NaN</td>\n",
       "      <td>NaN</td>\n",
       "      <td>NaN</td>\n",
       "      <td>NaN</td>\n",
       "      <td>Energy</td>\n",
       "      <td>energy  renewable energy  other  solar power  ...</td>\n",
       "    </tr>\n",
       "    <tr>\n",
       "      <th>16</th>\n",
       "      <td>407</td>\n",
       "      <td>1677 Heat</td>\n",
       "      <td>MAJORITY</td>\n",
       "      <td>806</td>\n",
       "      <td>SPH Sustainable Process Heat GmbH</td>\n",
       "      <td>PROJECT HEAT hat eine neue Wärmepumpentechnolo...</td>\n",
       "      <td>0.43</td>\n",
       "      <td>-0.78</td>\n",
       "      <td>-0.78</td>\n",
       "      <td>NaN</td>\n",
       "      <td>NaN</td>\n",
       "      <td>Industrial products and services</td>\n",
       "      <td>industrial products and services  pumps and co...</td>\n",
       "    </tr>\n",
       "    <tr>\n",
       "      <th>22</th>\n",
       "      <td>1013</td>\n",
       "      <td>845 Apollo</td>\n",
       "      <td>OTHER</td>\n",
       "      <td>812</td>\n",
       "      <td>SUMMIQ AG</td>\n",
       "      <td>Fundraising für Renewable Holding</td>\n",
       "      <td>0.00</td>\n",
       "      <td>0.00</td>\n",
       "      <td>0.00</td>\n",
       "      <td>Germany</td>\n",
       "      <td>Bavaria</td>\n",
       "      <td>Financial Services</td>\n",
       "      <td>financial services  other diversified financia...</td>\n",
       "    </tr>\n",
       "    <tr>\n",
       "      <th>26</th>\n",
       "      <td>752</td>\n",
       "      <td>390 Saragossa</td>\n",
       "      <td>OTHER</td>\n",
       "      <td>507</td>\n",
       "      <td>KSW Bioenergie GmbH</td>\n",
       "      <td>Errichtung eines CO2-neutralen Bio-Energie Kra...</td>\n",
       "      <td>0.00</td>\n",
       "      <td>0.00</td>\n",
       "      <td>0.00</td>\n",
       "      <td>Germany</td>\n",
       "      <td>North Rhine-Westphalia</td>\n",
       "      <td>Energy</td>\n",
       "      <td>bioenergy  energy  bioenergie  biomasse  biotr...</td>\n",
       "    </tr>\n",
       "  </tbody>\n",
       "</table>\n",
       "</div>"
      ],
      "text/plain": [
       "    deal_id      deal_name deal_type_name  target_company_id  \\\n",
       "0       173       1301 Sun          OTHER                871   \n",
       "4       129    1220 Supple          OTHER                874   \n",
       "16      407      1677 Heat       MAJORITY                806   \n",
       "22     1013     845 Apollo          OTHER                812   \n",
       "26      752  390 Saragossa          OTHER                507   \n",
       "\n",
       "                          target_name  \\\n",
       "0                        Sun [Target]   \n",
       "4                     Supple [Target]   \n",
       "16  SPH Sustainable Process Heat GmbH   \n",
       "22                          SUMMIQ AG   \n",
       "26                KSW Bioenergie GmbH   \n",
       "\n",
       "                                   target_description  target_revenue  \\\n",
       "0   •\\t350MWp of solar photovoltaic project assets...             NaN   \n",
       "4                                Solaranlage in Kreta           57.70   \n",
       "16  PROJECT HEAT hat eine neue Wärmepumpentechnolo...            0.43   \n",
       "22                  Fundraising für Renewable Holding            0.00   \n",
       "26  Errichtung eines CO2-neutralen Bio-Energie Kra...            0.00   \n",
       "\n",
       "    target_ebitda  target_ebit country_name             region_name  \\\n",
       "0             NaN          NaN          NaN                     NaN   \n",
       "4             NaN          NaN          NaN                     NaN   \n",
       "16          -0.78        -0.78          NaN                     NaN   \n",
       "22           0.00         0.00      Germany                 Bavaria   \n",
       "26           0.00         0.00      Germany  North Rhine-Westphalia   \n",
       "\n",
       "                         sector_name  \\\n",
       "0                             Energy   \n",
       "4                             Energy   \n",
       "16  Industrial products and services   \n",
       "22                Financial Services   \n",
       "26                            Energy   \n",
       "\n",
       "                                                 strs  \n",
       "0   energy  solar power  energie  photovoltaik  pv...  \n",
       "4   energy  renewable energy  other  solar power  ...  \n",
       "16  industrial products and services  pumps and co...  \n",
       "22  financial services  other diversified financia...  \n",
       "26  bioenergy  energy  bioenergie  biomasse  biotr...  "
      ]
     },
     "execution_count": 25,
     "metadata": {},
     "output_type": "execute_result"
    }
   ],
   "source": [
    "df_targets_clean.head()"
   ]
  },
  {
   "cell_type": "code",
   "execution_count": 26,
   "metadata": {},
   "outputs": [
    {
     "data": {
      "text/html": [
       "<div>\n",
       "<style scoped>\n",
       "    .dataframe tbody tr th:only-of-type {\n",
       "        vertical-align: middle;\n",
       "    }\n",
       "\n",
       "    .dataframe tbody tr th {\n",
       "        vertical-align: top;\n",
       "    }\n",
       "\n",
       "    .dataframe thead th {\n",
       "        text-align: right;\n",
       "    }\n",
       "</style>\n",
       "<table border=\"1\" class=\"dataframe\">\n",
       "  <thead>\n",
       "    <tr style=\"text-align: right;\">\n",
       "      <th></th>\n",
       "      <th>name</th>\n",
       "      <th>name_de</th>\n",
       "    </tr>\n",
       "  </thead>\n",
       "  <tbody>\n",
       "    <tr>\n",
       "      <th>0</th>\n",
       "      <td>10X group</td>\n",
       "      <td>startup app daten internet agnostisch</td>\n",
       "    </tr>\n",
       "    <tr>\n",
       "      <th>1</th>\n",
       "      <td>123 Investment Managers</td>\n",
       "      <td>tourismus altenpflege gastronomie labor senior...</td>\n",
       "    </tr>\n",
       "    <tr>\n",
       "      <th>2</th>\n",
       "      <td>137 Ventures</td>\n",
       "      <td>agnostisch</td>\n",
       "    </tr>\n",
       "    <tr>\n",
       "      <th>3</th>\n",
       "      <td>138 Pyramids</td>\n",
       "      <td>agnostisch</td>\n",
       "    </tr>\n",
       "    <tr>\n",
       "      <th>4</th>\n",
       "      <td>17Capital LLP</td>\n",
       "      <td>agnostisch</td>\n",
       "    </tr>\n",
       "  </tbody>\n",
       "</table>\n",
       "</div>"
      ],
      "text/plain": [
       "                      name                                            name_de\n",
       "0                10X group              startup app daten internet agnostisch\n",
       "1  123 Investment Managers  tourismus altenpflege gastronomie labor senior...\n",
       "2             137 Ventures                                         agnostisch\n",
       "3             138 Pyramids                                         agnostisch\n",
       "4            17Capital LLP                                         agnostisch"
      ]
     },
     "execution_count": 26,
     "metadata": {},
     "output_type": "execute_result"
    }
   ],
   "source": [
    "df_investors_clean.head()"
   ]
  },
  {
   "cell_type": "code",
   "execution_count": 42,
   "metadata": {},
   "outputs": [],
   "source": [
    "X = df_targets_clean\n",
    "Y = df_investors_clean\n",
    "model = Trainer(X,Y)"
   ]
  },
  {
   "cell_type": "code",
   "execution_count": 43,
   "metadata": {},
   "outputs": [],
   "source": [
    "model.set_pipeline_targets()"
   ]
  },
  {
   "cell_type": "code",
   "execution_count": 44,
   "metadata": {},
   "outputs": [],
   "source": [
    "model.run_targets()"
   ]
  },
  {
   "cell_type": "code",
   "execution_count": 52,
   "metadata": {},
   "outputs": [],
   "source": [
    "num_transformer = Pipeline([('imputer', SimpleImputer(missing_values=np.nan, strategy='constant', fill_value=0)),\n",
    "                            ('scaler', RobustScaler())])"
   ]
  },
  {
   "cell_type": "code",
   "execution_count": 54,
   "metadata": {},
   "outputs": [],
   "source": [
    "preprocessor = ColumnTransformer(transformers=[\n",
    "            ('num_tr', num_transformer, ['target_ebit','target_ebitda','target_revenue']),\n",
    "            ('tfidf',TfidfVectorizer(), 'strs')\n",
    "        ], remainder='drop')"
   ]
  },
  {
   "cell_type": "code",
   "execution_count": 55,
   "metadata": {},
   "outputs": [],
   "source": [
    "pipeline_targets = Pipeline([('preproc', preprocessor)])"
   ]
  },
  {
   "cell_type": "code",
   "execution_count": 58,
   "metadata": {},
   "outputs": [
    {
     "data": {
      "text/plain": [
       "<1111x4632 sparse matrix of type '<class 'numpy.float64'>'\n",
       "\twith 17306 stored elements in Compressed Sparse Row format>"
      ]
     },
     "execution_count": 58,
     "metadata": {},
     "output_type": "execute_result"
    }
   ],
   "source": [
    "pipeline_targets.fit_transform(X)"
   ]
  },
  {
   "cell_type": "code",
   "execution_count": 62,
   "metadata": {},
   "outputs": [],
   "source": [
    "preproc_x = preprocessor.fit_transform(X)"
   ]
  },
  {
   "cell_type": "code",
   "execution_count": 130,
   "metadata": {},
   "outputs": [],
   "source": [
    "num_features = ['target_ebit','target_ebitda','target_revenue']\n",
    "num_transformer = Pipeline([('imputer', SimpleImputer(missing_values=np.nan, strategy='constant', fill_value=0)),\n",
    "                            ('scaler', RobustScaler())])"
   ]
  },
  {
   "cell_type": "code",
   "execution_count": 194,
   "metadata": {},
   "outputs": [],
   "source": [
    "class DenseTransformer(TransformerMixin):\n",
    "\n",
    "    def fit(self, X, y=None, **fit_params):\n",
    "        return self\n",
    "\n",
    "    def transform(self, X, y=None, **fit_params):\n",
    "        return X.toarray()"
   ]
  },
  {
   "cell_type": "code",
   "execution_count": 195,
   "metadata": {},
   "outputs": [],
   "source": [
    "tfidf_features = 'strs'\n",
    "tfidf_transformer = Pipeline([('tfidf', TfidfVectorizer()), ('dense', DenseTransformer())])"
   ]
  },
  {
   "cell_type": "code",
   "execution_count": 196,
   "metadata": {},
   "outputs": [],
   "source": [
    "preproc = ColumnTransformer(transformers=[\n",
    "            ('num_tr', num_transformer, num_features),\n",
    "            ('tfidf',tfidf_transformer, tfidf_features)\n",
    "        ], remainder='drop')"
   ]
  },
  {
   "cell_type": "code",
   "execution_count": 197,
   "metadata": {},
   "outputs": [
    {
     "data": {
      "text/plain": [
       "(1111, 4632)"
      ]
     },
     "execution_count": 197,
     "metadata": {},
     "output_type": "execute_result"
    }
   ],
   "source": [
    "preproc.fit_transform(X).shape"
   ]
  },
  {
   "cell_type": "code",
   "execution_count": 167,
   "metadata": {},
   "outputs": [],
   "source": [
    "tf = tfidf_transformer.fit_transform(X['strs']).toarray()"
   ]
  },
  {
   "cell_type": "code",
   "execution_count": 168,
   "metadata": {},
   "outputs": [],
   "source": [
    "num = num_transformer.fit_transform(X[['target_ebit','target_ebitda','target_revenue']])"
   ]
  },
  {
   "cell_type": "code",
   "execution_count": 173,
   "metadata": {},
   "outputs": [],
   "source": [
    "merge = np.concatenate((tf,num), axis=1)"
   ]
  },
  {
   "cell_type": "code",
   "execution_count": 269,
   "metadata": {},
   "outputs": [],
   "source": [
    "full = Pipeline([('preproc', preproc),\n",
    "                                          ('pca',\n",
    "                                           PCA(0.95))])"
   ]
  },
  {
   "cell_type": "code",
   "execution_count": 272,
   "metadata": {},
   "outputs": [],
   "source": [
    "preproc_fitted = full.fit(X)\n",
    "preproc_transformed = preproc_fitted.transform(X)\n",
    "fitted_nn = NearestNeighbors(n_neighbors=10).fit(preproc_transformed)"
   ]
  },
  {
   "cell_type": "code",
   "execution_count": 273,
   "metadata": {},
   "outputs": [
    {
     "data": {
      "text/plain": [
       "(array([[0.11123943, 0.27253504, 0.29032934, 0.45281042, 0.48279175,\n",
       "         0.48902642, 0.57433349, 0.60868525, 0.63310101, 0.65931131]]),\n",
       " array([[451, 648, 729,  72, 886, 877, 136, 893,  66, 319]]))"
      ]
     },
     "execution_count": 273,
     "metadata": {},
     "output_type": "execute_result"
    }
   ],
   "source": [
    "test_transformed = preproc_fitted.transform(test)\n",
    "fitted_nn.kneighbors(test_transformed)"
   ]
  },
  {
   "cell_type": "code",
   "execution_count": 271,
   "metadata": {},
   "outputs": [],
   "source": [
    "transformed_test = fitted.transform(test)"
   ]
  },
  {
   "cell_type": "code",
   "execution_count": null,
   "metadata": {},
   "outputs": [],
   "source": [
    "nn = NearestNeighbors(n_neighbors=10)"
   ]
  },
  {
   "cell_type": "code",
   "execution_count": 237,
   "metadata": {},
   "outputs": [],
   "source": [
    "transformed_test = fitted['preproc'].transform(test)"
   ]
  },
  {
   "cell_type": "code",
   "execution_count": 241,
   "metadata": {},
   "outputs": [],
   "source": [
    "fit_transform = fitted['pca'].transform(transformed_test)"
   ]
  },
  {
   "cell_type": "code",
   "execution_count": 242,
   "metadata": {},
   "outputs": [
    {
     "data": {
      "text/plain": [
       "(array([[0.11123943, 0.27253504, 0.29032934, 0.45281042, 0.48279175,\n",
       "         0.48902642, 0.57433349, 0.60868525, 0.63310101, 0.65931131]]),\n",
       " array([[451, 648, 729,  72, 886, 877, 136, 893,  66, 319]]))"
      ]
     },
     "execution_count": 242,
     "metadata": {},
     "output_type": "execute_result"
    }
   ],
   "source": [
    "fitted['NN'].kneighbors(fit_transform)"
   ]
  },
  {
   "cell_type": "code",
   "execution_count": 268,
   "metadata": {},
   "outputs": [
    {
     "name": "stderr",
     "output_type": "stream",
     "text": [
      "/Users/michieldekoninck/.pyenv/versions/3.8.12/envs/dealmatch/lib/python3.8/site-packages/sklearn/base.py:443: UserWarning: X has feature names, but NearestNeighbors was fitted without feature names\n",
      "  warnings.warn(\n"
     ]
    },
    {
     "ename": "ValueError",
     "evalue": "could not convert string to float: '1303 Sonne'",
     "output_type": "error",
     "traceback": [
      "\u001b[0;31m---------------------------------------------------------------------------\u001b[0m",
      "\u001b[0;31mValueError\u001b[0m                                Traceback (most recent call last)",
      "\u001b[1;32m/Users/michieldekoninck/code/michabrz/DealMatch/notebooks/test_pipeline.ipynb Cell 26'\u001b[0m in \u001b[0;36m<cell line: 1>\u001b[0;34m()\u001b[0m\n\u001b[0;32m----> <a href='vscode-notebook-cell:/Users/michieldekoninck/code/michabrz/DealMatch/notebooks/test_pipeline.ipynb#ch0000037?line=0'>1</a>\u001b[0m fitted[\u001b[39m'\u001b[39;49m\u001b[39mNN\u001b[39;49m\u001b[39m'\u001b[39;49m]\u001b[39m.\u001b[39;49mkneighbors(test,\u001b[39m10\u001b[39;49m)\n",
      "File \u001b[0;32m~/.pyenv/versions/3.8.12/envs/dealmatch/lib/python3.8/site-packages/sklearn/neighbors/_base.py:717\u001b[0m, in \u001b[0;36mKNeighborsMixin.kneighbors\u001b[0;34m(self, X, n_neighbors, return_distance)\u001b[0m\n\u001b[1;32m    <a href='file:///Users/michieldekoninck/.pyenv/versions/3.8.12/envs/dealmatch/lib/python3.8/site-packages/sklearn/neighbors/_base.py?line=714'>715</a>\u001b[0m         X \u001b[39m=\u001b[39m _check_precomputed(X)\n\u001b[1;32m    <a href='file:///Users/michieldekoninck/.pyenv/versions/3.8.12/envs/dealmatch/lib/python3.8/site-packages/sklearn/neighbors/_base.py?line=715'>716</a>\u001b[0m     \u001b[39melse\u001b[39;00m:\n\u001b[0;32m--> <a href='file:///Users/michieldekoninck/.pyenv/versions/3.8.12/envs/dealmatch/lib/python3.8/site-packages/sklearn/neighbors/_base.py?line=716'>717</a>\u001b[0m         X \u001b[39m=\u001b[39m \u001b[39mself\u001b[39;49m\u001b[39m.\u001b[39;49m_validate_data(X, accept_sparse\u001b[39m=\u001b[39;49m\u001b[39m\"\u001b[39;49m\u001b[39mcsr\u001b[39;49m\u001b[39m\"\u001b[39;49m, reset\u001b[39m=\u001b[39;49m\u001b[39mFalse\u001b[39;49;00m)\n\u001b[1;32m    <a href='file:///Users/michieldekoninck/.pyenv/versions/3.8.12/envs/dealmatch/lib/python3.8/site-packages/sklearn/neighbors/_base.py?line=717'>718</a>\u001b[0m \u001b[39melse\u001b[39;00m:\n\u001b[1;32m    <a href='file:///Users/michieldekoninck/.pyenv/versions/3.8.12/envs/dealmatch/lib/python3.8/site-packages/sklearn/neighbors/_base.py?line=718'>719</a>\u001b[0m     query_is_train \u001b[39m=\u001b[39m \u001b[39mTrue\u001b[39;00m\n",
      "File \u001b[0;32m~/.pyenv/versions/3.8.12/envs/dealmatch/lib/python3.8/site-packages/sklearn/base.py:566\u001b[0m, in \u001b[0;36mBaseEstimator._validate_data\u001b[0;34m(self, X, y, reset, validate_separately, **check_params)\u001b[0m\n\u001b[1;32m    <a href='file:///Users/michieldekoninck/.pyenv/versions/3.8.12/envs/dealmatch/lib/python3.8/site-packages/sklearn/base.py?line=563'>564</a>\u001b[0m     \u001b[39mraise\u001b[39;00m \u001b[39mValueError\u001b[39;00m(\u001b[39m\"\u001b[39m\u001b[39mValidation should be done on X, y or both.\u001b[39m\u001b[39m\"\u001b[39m)\n\u001b[1;32m    <a href='file:///Users/michieldekoninck/.pyenv/versions/3.8.12/envs/dealmatch/lib/python3.8/site-packages/sklearn/base.py?line=564'>565</a>\u001b[0m \u001b[39melif\u001b[39;00m \u001b[39mnot\u001b[39;00m no_val_X \u001b[39mand\u001b[39;00m no_val_y:\n\u001b[0;32m--> <a href='file:///Users/michieldekoninck/.pyenv/versions/3.8.12/envs/dealmatch/lib/python3.8/site-packages/sklearn/base.py?line=565'>566</a>\u001b[0m     X \u001b[39m=\u001b[39m check_array(X, \u001b[39m*\u001b[39;49m\u001b[39m*\u001b[39;49mcheck_params)\n\u001b[1;32m    <a href='file:///Users/michieldekoninck/.pyenv/versions/3.8.12/envs/dealmatch/lib/python3.8/site-packages/sklearn/base.py?line=566'>567</a>\u001b[0m     out \u001b[39m=\u001b[39m X\n\u001b[1;32m    <a href='file:///Users/michieldekoninck/.pyenv/versions/3.8.12/envs/dealmatch/lib/python3.8/site-packages/sklearn/base.py?line=567'>568</a>\u001b[0m \u001b[39melif\u001b[39;00m no_val_X \u001b[39mand\u001b[39;00m \u001b[39mnot\u001b[39;00m no_val_y:\n",
      "File \u001b[0;32m~/.pyenv/versions/3.8.12/envs/dealmatch/lib/python3.8/site-packages/sklearn/utils/validation.py:746\u001b[0m, in \u001b[0;36mcheck_array\u001b[0;34m(array, accept_sparse, accept_large_sparse, dtype, order, copy, force_all_finite, ensure_2d, allow_nd, ensure_min_samples, ensure_min_features, estimator)\u001b[0m\n\u001b[1;32m    <a href='file:///Users/michieldekoninck/.pyenv/versions/3.8.12/envs/dealmatch/lib/python3.8/site-packages/sklearn/utils/validation.py?line=743'>744</a>\u001b[0m         array \u001b[39m=\u001b[39m array\u001b[39m.\u001b[39mastype(dtype, casting\u001b[39m=\u001b[39m\u001b[39m\"\u001b[39m\u001b[39munsafe\u001b[39m\u001b[39m\"\u001b[39m, copy\u001b[39m=\u001b[39m\u001b[39mFalse\u001b[39;00m)\n\u001b[1;32m    <a href='file:///Users/michieldekoninck/.pyenv/versions/3.8.12/envs/dealmatch/lib/python3.8/site-packages/sklearn/utils/validation.py?line=744'>745</a>\u001b[0m     \u001b[39melse\u001b[39;00m:\n\u001b[0;32m--> <a href='file:///Users/michieldekoninck/.pyenv/versions/3.8.12/envs/dealmatch/lib/python3.8/site-packages/sklearn/utils/validation.py?line=745'>746</a>\u001b[0m         array \u001b[39m=\u001b[39m np\u001b[39m.\u001b[39;49masarray(array, order\u001b[39m=\u001b[39;49morder, dtype\u001b[39m=\u001b[39;49mdtype)\n\u001b[1;32m    <a href='file:///Users/michieldekoninck/.pyenv/versions/3.8.12/envs/dealmatch/lib/python3.8/site-packages/sklearn/utils/validation.py?line=746'>747</a>\u001b[0m \u001b[39mexcept\u001b[39;00m ComplexWarning \u001b[39mas\u001b[39;00m complex_warning:\n\u001b[1;32m    <a href='file:///Users/michieldekoninck/.pyenv/versions/3.8.12/envs/dealmatch/lib/python3.8/site-packages/sklearn/utils/validation.py?line=747'>748</a>\u001b[0m     \u001b[39mraise\u001b[39;00m \u001b[39mValueError\u001b[39;00m(\n\u001b[1;32m    <a href='file:///Users/michieldekoninck/.pyenv/versions/3.8.12/envs/dealmatch/lib/python3.8/site-packages/sklearn/utils/validation.py?line=748'>749</a>\u001b[0m         \u001b[39m\"\u001b[39m\u001b[39mComplex data not supported\u001b[39m\u001b[39m\\n\u001b[39;00m\u001b[39m{}\u001b[39;00m\u001b[39m\\n\u001b[39;00m\u001b[39m\"\u001b[39m\u001b[39m.\u001b[39mformat(array)\n\u001b[1;32m    <a href='file:///Users/michieldekoninck/.pyenv/versions/3.8.12/envs/dealmatch/lib/python3.8/site-packages/sklearn/utils/validation.py?line=749'>750</a>\u001b[0m     ) \u001b[39mfrom\u001b[39;00m \u001b[39mcomplex_warning\u001b[39;00m\n",
      "File \u001b[0;32m~/.pyenv/versions/3.8.12/envs/dealmatch/lib/python3.8/site-packages/pandas/core/generic.py:2072\u001b[0m, in \u001b[0;36mNDFrame.__array__\u001b[0;34m(self, dtype)\u001b[0m\n\u001b[1;32m   <a href='file:///Users/michieldekoninck/.pyenv/versions/3.8.12/envs/dealmatch/lib/python3.8/site-packages/pandas/core/generic.py?line=2070'>2071</a>\u001b[0m \u001b[39mdef\u001b[39;00m \u001b[39m__array__\u001b[39m(\u001b[39mself\u001b[39m, dtype: npt\u001b[39m.\u001b[39mDTypeLike \u001b[39m|\u001b[39m \u001b[39mNone\u001b[39;00m \u001b[39m=\u001b[39m \u001b[39mNone\u001b[39;00m) \u001b[39m-\u001b[39m\u001b[39m>\u001b[39m np\u001b[39m.\u001b[39mndarray:\n\u001b[0;32m-> <a href='file:///Users/michieldekoninck/.pyenv/versions/3.8.12/envs/dealmatch/lib/python3.8/site-packages/pandas/core/generic.py?line=2071'>2072</a>\u001b[0m     \u001b[39mreturn\u001b[39;00m np\u001b[39m.\u001b[39;49masarray(\u001b[39mself\u001b[39;49m\u001b[39m.\u001b[39;49m_values, dtype\u001b[39m=\u001b[39;49mdtype)\n",
      "\u001b[0;31mValueError\u001b[0m: could not convert string to float: '1303 Sonne'"
     ]
    }
   ],
   "source": [
    "fitted['NN'].kneighbors(test,10)"
   ]
  },
  {
   "cell_type": "code",
   "execution_count": null,
   "metadata": {},
   "outputs": [],
   "source": []
  }
 ],
 "metadata": {
  "interpreter": {
   "hash": "63305f572d39f1f057a29d6f90b97f50226f939806bf67798e7b1d2d4622b84a"
  },
  "kernelspec": {
   "display_name": "Python 3.8.12 64-bit ('lewagon')",
   "language": "python",
   "name": "python3"
  },
  "language_info": {
   "codemirror_mode": {
    "name": "ipython",
    "version": 3
   },
   "file_extension": ".py",
   "mimetype": "text/x-python",
   "name": "python",
   "nbconvert_exporter": "python",
   "pygments_lexer": "ipython3",
   "version": "3.8.12"
  },
  "orig_nbformat": 4
 },
 "nbformat": 4,
 "nbformat_minor": 2
}
